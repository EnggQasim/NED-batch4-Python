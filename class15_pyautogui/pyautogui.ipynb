{
 "cells": [
  {
   "cell_type": "code",
   "execution_count": 1,
   "id": "4c24f397",
   "metadata": {},
   "outputs": [],
   "source": [
    "import pyautogui"
   ]
  },
  {
   "cell_type": "raw",
   "id": "24109c45",
   "metadata": {},
   "source": [
    "!pip install pyautogui"
   ]
  },
  {
   "cell_type": "code",
   "execution_count": 36,
   "id": "5eafa3be",
   "metadata": {},
   "outputs": [
    {
     "data": {
      "text/plain": [
       "Point(x=431, y=164)"
      ]
     },
     "execution_count": 36,
     "metadata": {},
     "output_type": "execute_result"
    }
   ],
   "source": [
    "pyautogui.position()"
   ]
  },
  {
   "cell_type": "code",
   "execution_count": 37,
   "id": "cb74e1f1",
   "metadata": {},
   "outputs": [],
   "source": [
    "pyautogui.moveTo(x=39, y=202)\n",
    "pyautogui.click()\n",
    "pyautogui.moveTo(x=458, y=652)\n",
    "pyautogui.doubleClick()\n",
    "pyautogui.moveTo(x=431, y=164)\n",
    "pyautogui.dragTo(600, 800, duration=5) "
   ]
  },
  {
   "cell_type": "code",
   "execution_count": 10,
   "id": "0012c0ef",
   "metadata": {},
   "outputs": [
    {
     "data": {
      "text/plain": [
       "Size(width=1366, height=768)"
      ]
     },
     "execution_count": 10,
     "metadata": {},
     "output_type": "execute_result"
    }
   ],
   "source": [
    "pyautogui.size()"
   ]
  },
  {
   "cell_type": "code",
   "execution_count": 15,
   "id": "dd35af34",
   "metadata": {},
   "outputs": [
    {
     "data": {
      "text/plain": [
       "True"
      ]
     },
     "execution_count": 15,
     "metadata": {},
     "output_type": "execute_result"
    }
   ],
   "source": [
    "pyautogui.onScreen(1365, 200)"
   ]
  },
  {
   "cell_type": "code",
   "execution_count": 47,
   "id": "413957f1",
   "metadata": {},
   "outputs": [],
   "source": [
    "pyautogui.PAUSE = 0.2"
   ]
  },
  {
   "cell_type": "code",
   "execution_count": 19,
   "id": "fb4a9f9b",
   "metadata": {},
   "outputs": [],
   "source": [
    "pyautogui.moveTo(0, 0)"
   ]
  },
  {
   "cell_type": "code",
   "execution_count": 56,
   "id": "ea38c806",
   "metadata": {},
   "outputs": [],
   "source": [
    "pyautogui.scroll(10,100,100)"
   ]
  },
  {
   "cell_type": "code",
   "execution_count": 26,
   "id": "5f7b091c",
   "metadata": {},
   "outputs": [],
   "source": [
    "pyautogui.moveTo(100, 100, duration=5)"
   ]
  },
  {
   "cell_type": "code",
   "execution_count": 25,
   "id": "5d694e11",
   "metadata": {},
   "outputs": [],
   "source": [
    "pyautogui.moveRel(100, 100, duration=2)"
   ]
  },
  {
   "cell_type": "code",
   "execution_count": null,
   "id": "28b87815",
   "metadata": {},
   "outputs": [],
   "source": [
    "pyautogui.click(x=moveToX, y=moveToY, clicks=num_of_clicks, interval=secs_between_clicks, button='left')\n"
   ]
  },
  {
   "cell_type": "code",
   "execution_count": 43,
   "id": "c152162b",
   "metadata": {},
   "outputs": [
    {
     "ename": "TypeError",
     "evalue": "scroll() missing 1 required positional argument: 'clicks'",
     "output_type": "error",
     "traceback": [
      "\u001b[0;31m-----------------------------------------------------------------------\u001b[0m",
      "\u001b[0;31mTypeError\u001b[0m                             Traceback (most recent call last)",
      "\u001b[0;32m<ipython-input-43-465acd6d1a60>\u001b[0m in \u001b[0;36m<module>\u001b[0;34m\u001b[0m\n\u001b[1;32m      1\u001b[0m \u001b[0mpyautogui\u001b[0m\u001b[0;34m.\u001b[0m\u001b[0mclick\u001b[0m\u001b[0;34m(\u001b[0m\u001b[0;36m661\u001b[0m\u001b[0;34m,\u001b[0m\u001b[0;36m44\u001b[0m\u001b[0;34m,\u001b[0m \u001b[0mduration\u001b[0m\u001b[0;34m=\u001b[0m\u001b[0;36m2\u001b[0m\u001b[0;34m)\u001b[0m\u001b[0;34m\u001b[0m\u001b[0;34m\u001b[0m\u001b[0m\n\u001b[1;32m      2\u001b[0m \u001b[0mpyautogui\u001b[0m\u001b[0;34m.\u001b[0m\u001b[0mclick\u001b[0m\u001b[0;34m(\u001b[0m\u001b[0mx\u001b[0m\u001b[0;34m=\u001b[0m\u001b[0;36m396\u001b[0m\u001b[0;34m,\u001b[0m \u001b[0my\u001b[0m\u001b[0;34m=\u001b[0m\u001b[0;36m389\u001b[0m\u001b[0;34m,\u001b[0m \u001b[0mduration\u001b[0m\u001b[0;34m=\u001b[0m\u001b[0;36m2\u001b[0m\u001b[0;34m)\u001b[0m\u001b[0;34m\u001b[0m\u001b[0;34m\u001b[0m\u001b[0m\n\u001b[0;32m----> 3\u001b[0;31m \u001b[0mpyautogui\u001b[0m\u001b[0;34m.\u001b[0m\u001b[0mscroll\u001b[0m\u001b[0;34m(\u001b[0m\u001b[0mx\u001b[0m\u001b[0;34m=\u001b[0m\u001b[0;36m10\u001b[0m\u001b[0;34m,\u001b[0m \u001b[0my\u001b[0m\u001b[0;34m=\u001b[0m\u001b[0;36m10\u001b[0m\u001b[0;34m)\u001b[0m\u001b[0;34m\u001b[0m\u001b[0;34m\u001b[0m\u001b[0m\n\u001b[0m",
      "\u001b[0;32m~/anaconda3/lib/python3.7/site-packages/pyautogui/__init__.py\u001b[0m in \u001b[0;36mwrapper\u001b[0;34m(*args, **kwargs)\u001b[0m\n\u001b[1;32m    596\u001b[0m     \u001b[0;32mdef\u001b[0m \u001b[0mwrapper\u001b[0m\u001b[0;34m(\u001b[0m\u001b[0;34m*\u001b[0m\u001b[0margs\u001b[0m\u001b[0;34m,\u001b[0m \u001b[0;34m**\u001b[0m\u001b[0mkwargs\u001b[0m\u001b[0;34m)\u001b[0m\u001b[0;34m:\u001b[0m\u001b[0;34m\u001b[0m\u001b[0;34m\u001b[0m\u001b[0m\n\u001b[1;32m    597\u001b[0m         \u001b[0mfailSafeCheck\u001b[0m\u001b[0;34m(\u001b[0m\u001b[0;34m)\u001b[0m\u001b[0;34m\u001b[0m\u001b[0;34m\u001b[0m\u001b[0m\n\u001b[0;32m--> 598\u001b[0;31m         \u001b[0mreturnVal\u001b[0m \u001b[0;34m=\u001b[0m \u001b[0mwrappedFunction\u001b[0m\u001b[0;34m(\u001b[0m\u001b[0;34m*\u001b[0m\u001b[0margs\u001b[0m\u001b[0;34m,\u001b[0m \u001b[0;34m**\u001b[0m\u001b[0mkwargs\u001b[0m\u001b[0;34m)\u001b[0m\u001b[0;34m\u001b[0m\u001b[0;34m\u001b[0m\u001b[0m\n\u001b[0m\u001b[1;32m    599\u001b[0m         \u001b[0m_handlePause\u001b[0m\u001b[0;34m(\u001b[0m\u001b[0mkwargs\u001b[0m\u001b[0;34m.\u001b[0m\u001b[0mget\u001b[0m\u001b[0;34m(\u001b[0m\u001b[0;34m\"_pause\"\u001b[0m\u001b[0;34m,\u001b[0m \u001b[0;32mTrue\u001b[0m\u001b[0;34m)\u001b[0m\u001b[0;34m)\u001b[0m\u001b[0;34m\u001b[0m\u001b[0;34m\u001b[0m\u001b[0m\n\u001b[1;32m    600\u001b[0m         \u001b[0;32mreturn\u001b[0m \u001b[0mreturnVal\u001b[0m\u001b[0;34m\u001b[0m\u001b[0;34m\u001b[0m\u001b[0m\n",
      "\u001b[0;31mTypeError\u001b[0m: scroll() missing 1 required positional argument: 'clicks'"
     ]
    }
   ],
   "source": [
    "pyautogui.click(661,44, duration=2)\n",
    "pyautogui.click(x=396, y=389, duration=2)\n",
    "pyautogui.scroll(x=10, y=10)\n"
   ]
  },
  {
   "cell_type": "code",
   "execution_count": 50,
   "id": "e9ba7d54",
   "metadata": {},
   "outputs": [
    {
     "data": {
      "text/plain": [
       "Point(x=1014, y=405)"
      ]
     },
     "execution_count": 50,
     "metadata": {},
     "output_type": "execute_result"
    }
   ],
   "source": [
    "pyautogui.position()\n"
   ]
  },
  {
   "cell_type": "code",
   "execution_count": 48,
   "id": "4068abea",
   "metadata": {},
   "outputs": [],
   "source": [
    "pyautogui.click(584,39)\n",
    "pyautogui.click(584+10,39+10)\n",
    "pyautogui.typewrite('Pakistan')\n",
    "pyautogui.click(584+10,39+10)\n",
    "pyautogui.keyDown('enter')"
   ]
  },
  {
   "cell_type": "code",
   "execution_count": null,
   "id": "64e8a6ce",
   "metadata": {},
   "outputs": [],
   "source": [
    "selinum"
   ]
  }
 ],
 "metadata": {
  "kernelspec": {
   "display_name": "Python 3",
   "language": "python",
   "name": "python3"
  },
  "language_info": {
   "codemirror_mode": {
    "name": "ipython",
    "version": 3
   },
   "file_extension": ".py",
   "mimetype": "text/x-python",
   "name": "python",
   "nbconvert_exporter": "python",
   "pygments_lexer": "ipython3",
   "version": "3.7.15"
  }
 },
 "nbformat": 4,
 "nbformat_minor": 5
}
