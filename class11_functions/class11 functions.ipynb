{
 "cells": [
  {
   "cell_type": "markdown",
   "id": "934e1858",
   "metadata": {},
   "source": [
    "# Functions \n",
    "* ## function declair/define\n",
    "    * function name\n",
    "    * function parameters/Arguments\n",
    "* ## function body\n",
    "    sets of statments\n",
    "* ## function call\n",
    "    * function_name() example `print(text1,text2..)`\n",
    "\n",
    "* pre-define function\n",
    "    * return\n",
    "        * after calling we can store this value in variable\n",
    "    * None return\n",
    "        * we can't store value in variable\n",
    "    * defualt function\n",
    "        * not required any argument when we call it\n",
    "    * provided by language/ or pre-define in language\n",
    "        * len()\n",
    "        * print()\n",
    "        * dir()\n",
    "        * str()\n",
    "* user define function\n",
    "    * use create itself\n",
    "    * return\n",
    "        * after calling we can store this value in variable\n",
    "    * None return\n",
    "        * we can't store value in variable\n",
    "\n",
    "\n",
    "# parameters\n",
    "* required\n",
    "    * we can't execute the function without these parameters\n",
    "* defualt/optional\n",
    "    * if we can't provide these then our function can also run or complete the task\n",
    "    \n",
    "# Generator function\n",
    "\n",
    "# Lambda function\n",
    "\n",
    "# Recursive function"
   ]
  },
  {
   "cell_type": "code",
   "execution_count": 1,
   "id": "54a5e5e6",
   "metadata": {},
   "outputs": [],
   "source": [
    "# Pre-Define Functions"
   ]
  },
  {
   "cell_type": "code",
   "execution_count": 2,
   "id": "2c384f21",
   "metadata": {},
   "outputs": [
    {
     "name": "stdout",
     "output_type": "stream",
     "text": [
      "Pakistan zinda bad\n"
     ]
    }
   ],
   "source": [
    "print(\"Pakistan zinda bad\")# call predefine function here "
   ]
  },
  {
   "cell_type": "code",
   "execution_count": 3,
   "id": "ef53e8aa",
   "metadata": {},
   "outputs": [
    {
     "data": {
      "text/plain": [
       "4"
      ]
     },
     "execution_count": 3,
     "metadata": {},
     "output_type": "execute_result"
    }
   ],
   "source": [
    "len('aaaa')"
   ]
  },
  {
   "cell_type": "code",
   "execution_count": 4,
   "id": "adb2bd3a",
   "metadata": {},
   "outputs": [
    {
     "data": {
      "text/plain": [
       "'4'"
      ]
     },
     "execution_count": 4,
     "metadata": {},
     "output_type": "execute_result"
    }
   ],
   "source": [
    "str(4)"
   ]
  },
  {
   "cell_type": "code",
   "execution_count": 5,
   "id": "ada2e734",
   "metadata": {},
   "outputs": [
    {
     "data": {
      "text/plain": [
       "139968087942704"
      ]
     },
     "execution_count": 5,
     "metadata": {},
     "output_type": "execute_result"
    }
   ],
   "source": [
    "id(\"aaa\")"
   ]
  },
  {
   "cell_type": "markdown",
   "id": "960019d1",
   "metadata": {},
   "source": [
    "# Return Vs None-Return"
   ]
  },
  {
   "cell_type": "code",
   "execution_count": 6,
   "id": "3116d714",
   "metadata": {},
   "outputs": [
    {
     "name": "stdout",
     "output_type": "stream",
     "text": [
      "pakistan zinda bad\n"
     ]
    }
   ],
   "source": [
    "# none-return function\n",
    "abc = print('pakistan zinda bad')\n"
   ]
  },
  {
   "cell_type": "code",
   "execution_count": 7,
   "id": "eeda91d2",
   "metadata": {},
   "outputs": [],
   "source": [
    "abc"
   ]
  },
  {
   "cell_type": "code",
   "execution_count": 8,
   "id": "835a32ba",
   "metadata": {},
   "outputs": [
    {
     "name": "stdout",
     "output_type": "stream",
     "text": [
      "None\n"
     ]
    }
   ],
   "source": [
    "print(abc)"
   ]
  },
  {
   "cell_type": "code",
   "execution_count": 9,
   "id": "a3cfc933",
   "metadata": {},
   "outputs": [],
   "source": [
    "# Return function\n",
    "# id, str, len , dir\n",
    "abc = id('adafsdfas')"
   ]
  },
  {
   "cell_type": "code",
   "execution_count": 10,
   "id": "1c855f4b",
   "metadata": {},
   "outputs": [
    {
     "name": "stdout",
     "output_type": "stream",
     "text": [
      "139968087972464\n"
     ]
    }
   ],
   "source": [
    "print(abc)"
   ]
  },
  {
   "cell_type": "code",
   "execution_count": 11,
   "id": "b7e9d924",
   "metadata": {},
   "outputs": [],
   "source": [
    "abc = str(22)"
   ]
  },
  {
   "cell_type": "code",
   "execution_count": 12,
   "id": "25362760",
   "metadata": {},
   "outputs": [
    {
     "name": "stdout",
     "output_type": "stream",
     "text": [
      "22\n"
     ]
    }
   ],
   "source": [
    "print(abc)"
   ]
  },
  {
   "cell_type": "code",
   "execution_count": 13,
   "id": "43f360b9",
   "metadata": {},
   "outputs": [],
   "source": [
    "abc = dir('sss')"
   ]
  },
  {
   "cell_type": "code",
   "execution_count": 14,
   "id": "556ce234",
   "metadata": {},
   "outputs": [
    {
     "data": {
      "text/plain": [
       "['__add__',\n",
       " '__class__',\n",
       " '__contains__',\n",
       " '__delattr__',\n",
       " '__dir__',\n",
       " '__doc__',\n",
       " '__eq__',\n",
       " '__format__',\n",
       " '__ge__',\n",
       " '__getattribute__',\n",
       " '__getitem__',\n",
       " '__getnewargs__',\n",
       " '__gt__',\n",
       " '__hash__',\n",
       " '__init__',\n",
       " '__init_subclass__',\n",
       " '__iter__',\n",
       " '__le__',\n",
       " '__len__',\n",
       " '__lt__',\n",
       " '__mod__',\n",
       " '__mul__',\n",
       " '__ne__',\n",
       " '__new__',\n",
       " '__reduce__',\n",
       " '__reduce_ex__',\n",
       " '__repr__',\n",
       " '__rmod__',\n",
       " '__rmul__',\n",
       " '__setattr__',\n",
       " '__sizeof__',\n",
       " '__str__',\n",
       " '__subclasshook__',\n",
       " 'capitalize',\n",
       " 'casefold',\n",
       " 'center',\n",
       " 'count',\n",
       " 'encode',\n",
       " 'endswith',\n",
       " 'expandtabs',\n",
       " 'find',\n",
       " 'format',\n",
       " 'format_map',\n",
       " 'index',\n",
       " 'isalnum',\n",
       " 'isalpha',\n",
       " 'isascii',\n",
       " 'isdecimal',\n",
       " 'isdigit',\n",
       " 'isidentifier',\n",
       " 'islower',\n",
       " 'isnumeric',\n",
       " 'isprintable',\n",
       " 'isspace',\n",
       " 'istitle',\n",
       " 'isupper',\n",
       " 'join',\n",
       " 'ljust',\n",
       " 'lower',\n",
       " 'lstrip',\n",
       " 'maketrans',\n",
       " 'partition',\n",
       " 'replace',\n",
       " 'rfind',\n",
       " 'rindex',\n",
       " 'rjust',\n",
       " 'rpartition',\n",
       " 'rsplit',\n",
       " 'rstrip',\n",
       " 'split',\n",
       " 'splitlines',\n",
       " 'startswith',\n",
       " 'strip',\n",
       " 'swapcase',\n",
       " 'title',\n",
       " 'translate',\n",
       " 'upper',\n",
       " 'zfill']"
      ]
     },
     "execution_count": 14,
     "metadata": {},
     "output_type": "execute_result"
    }
   ],
   "source": [
    "abc"
   ]
  },
  {
   "cell_type": "markdown",
   "id": "9ffb5441",
   "metadata": {},
   "source": [
    "# USER Define function\n",
    "**syntax**\n",
    "\n",
    "```\n",
    "def function_name(arg1,arg2,...):\n",
    "    statment1\n",
    "    statment2\n",
    "    \n",
    "\n",
    "function_name(arg1,arg2)\n",
    "```"
   ]
  },
  {
   "cell_type": "code",
   "execution_count": 15,
   "id": "b6500972",
   "metadata": {},
   "outputs": [],
   "source": [
    "def ned_introduction():        # function define\n",
    "    #function body\n",
    "    print(\"=====NED University====\")    # statment1\n",
    "    print(\"PGD program\")       # statment2\n",
    "    print(\"Courses offering:\") # statment3\n",
    "    print(\"* Data Science\")      #...\n",
    "    print(\"* Block-chain\")       #...\n",
    "    #end function body"
   ]
  },
  {
   "cell_type": "code",
   "execution_count": 16,
   "id": "26384a09",
   "metadata": {},
   "outputs": [
    {
     "name": "stdout",
     "output_type": "stream",
     "text": [
      "=====NED University====\n",
      "PGD program\n",
      "Courses offering:\n",
      "* Data Science\n",
      "* Block-chain\n"
     ]
    }
   ],
   "source": [
    "ned_introduction() # calling function"
   ]
  },
  {
   "cell_type": "code",
   "execution_count": 17,
   "id": "180baf44",
   "metadata": {},
   "outputs": [
    {
     "name": "stdout",
     "output_type": "stream",
     "text": [
      "=====NED University====\n",
      "PGD program\n",
      "Courses offering:\n",
      "* Data Science\n",
      "* Block-chain\n",
      "=====NED University====\n",
      "PGD program\n",
      "Courses offering:\n",
      "* Data Science\n",
      "* Block-chain\n"
     ]
    }
   ],
   "source": [
    "ned_introduction()\n",
    "ned_introduction()"
   ]
  },
  {
   "cell_type": "code",
   "execution_count": 18,
   "id": "56986de8",
   "metadata": {},
   "outputs": [
    {
     "name": "stdout",
     "output_type": "stream",
     "text": [
      "=====NED University====\n",
      "PGD program\n",
      "Courses offering:\n",
      "* Data Science\n",
      "* Block-chain\n"
     ]
    }
   ],
   "source": [
    "abc = ned_introduction()"
   ]
  },
  {
   "cell_type": "code",
   "execution_count": 19,
   "id": "610a3945",
   "metadata": {},
   "outputs": [
    {
     "name": "stdout",
     "output_type": "stream",
     "text": [
      "None\n"
     ]
    }
   ],
   "source": [
    "print(abc)"
   ]
  },
  {
   "cell_type": "markdown",
   "id": "1a65e97f",
   "metadata": {},
   "source": [
    "# Create return function"
   ]
  },
  {
   "cell_type": "code",
   "execution_count": 20,
   "id": "80289834",
   "metadata": {},
   "outputs": [],
   "source": [
    "def ned_intro():\n",
    "    txt = \"\"\"\n",
    "    NED \n",
    "    Courses Offering:\n",
    "        AI\n",
    "        Blockchain\n",
    "        Cloud computing\n",
    "        Metaverse\n",
    "    \"\"\"    \n",
    "    return txt # you must be place return in last line \n"
   ]
  },
  {
   "cell_type": "code",
   "execution_count": 21,
   "id": "cfb41ca6",
   "metadata": {},
   "outputs": [],
   "source": [
    "abc = ned_intro()"
   ]
  },
  {
   "cell_type": "code",
   "execution_count": 22,
   "id": "95299c89",
   "metadata": {},
   "outputs": [
    {
     "name": "stdout",
     "output_type": "stream",
     "text": [
      "\n",
      "    NED \n",
      "    Courses Offering:\n",
      "        AI\n",
      "        Blockchain\n",
      "        Cloud computing\n",
      "        Metaverse\n",
      "    \n"
     ]
    }
   ],
   "source": [
    "print(abc)"
   ]
  },
  {
   "cell_type": "code",
   "execution_count": 23,
   "id": "c2a1b3de",
   "metadata": {},
   "outputs": [
    {
     "name": "stdout",
     "output_type": "stream",
     "text": [
      "\n",
      "    NED \n",
      "    Courses Offering:\n",
      "        AI\n",
      "        Blockchain\n",
      "        Cloud computing\n",
      "        Metaverse\n",
      "    \n"
     ]
    }
   ],
   "source": [
    "print(abc)"
   ]
  },
  {
   "cell_type": "code",
   "execution_count": 24,
   "id": "e22cc3e3",
   "metadata": {},
   "outputs": [
    {
     "name": "stdout",
     "output_type": "stream",
     "text": [
      "\n",
      "    NED \n",
      "    Courses Offering:\n",
      "        AI\n",
      "        Blockchain\n",
      "        Cloud computing\n",
      "        Metaverse\n",
      "    \n"
     ]
    }
   ],
   "source": [
    "def ned_intro():\n",
    "    txt = \"\"\"\n",
    "    NED \n",
    "    Courses Offering:\n",
    "        AI\n",
    "        Blockchain\n",
    "        Cloud computing\n",
    "        Metaverse\n",
    "    \"\"\"    \n",
    "    return txt # you must be place return in last line /exit from here that's why we unable to print below two lines\n",
    "    print('aaa')\n",
    "    print('bbb')\n",
    "    \n",
    "abc = ned_intro() \n",
    "print(abc)"
   ]
  },
  {
   "cell_type": "code",
   "execution_count": 25,
   "id": "735bef46",
   "metadata": {},
   "outputs": [
    {
     "name": "stdout",
     "output_type": "stream",
     "text": [
      "\n",
      "    NED \n",
      "    Courses Offering:\n",
      "        AI\n",
      "        Blockchain\n",
      "        Cloud computing\n",
      "        Metaverse\n",
      "    \n"
     ]
    }
   ],
   "source": [
    "print(ned_intro())"
   ]
  },
  {
   "cell_type": "code",
   "execution_count": 26,
   "id": "71212237",
   "metadata": {},
   "outputs": [
    {
     "name": "stdout",
     "output_type": "stream",
     "text": [
      "\n",
      "    NED \n",
      "    Courses Offering:\n",
      "        AI\n",
      "        Blockchain\n",
      "        Cloud computing\n",
      "        Metaverse\n",
      "    \n",
      "aaa\n",
      "bbb\n"
     ]
    }
   ],
   "source": [
    "def ned_intro():\n",
    "    txt = \"\"\"\n",
    "    NED \n",
    "    Courses Offering:\n",
    "        AI\n",
    "        Blockchain\n",
    "        Cloud computing\n",
    "        Metaverse\n",
    "    \"\"\"    \n",
    "    print(txt)\n",
    "    print('aaa')\n",
    "    print('bbb')\n",
    "    \n",
    "ned_intro() \n"
   ]
  },
  {
   "cell_type": "markdown",
   "id": "a30043af",
   "metadata": {},
   "source": [
    "# Required arguments"
   ]
  },
  {
   "cell_type": "code",
   "execution_count": 27,
   "id": "22b9c304",
   "metadata": {},
   "outputs": [
    {
     "name": "stdout",
     "output_type": "stream",
     "text": [
      "10\n",
      "11\n"
     ]
    }
   ],
   "source": [
    "print(7 + 3)\n",
    "print(8+3)"
   ]
  },
  {
   "cell_type": "code",
   "execution_count": 28,
   "id": "7e54ff4f",
   "metadata": {},
   "outputs": [
    {
     "name": "stdout",
     "output_type": "stream",
     "text": [
      "10\n",
      "28\n",
      "160\n"
     ]
    }
   ],
   "source": [
    "def additon(num1, num2):\n",
    "    return num1 + num2\n",
    "\n",
    "\n",
    "print(additon(7,3))\n",
    "print(additon(20,8))\n",
    "print(additon(70,90))"
   ]
  },
  {
   "cell_type": "code",
   "execution_count": 29,
   "id": "ead148b3",
   "metadata": {},
   "outputs": [
    {
     "name": "stdout",
     "output_type": "stream",
     "text": [
      "3\n"
     ]
    },
    {
     "ename": "TypeError",
     "evalue": "additon() takes 2 positional arguments but 3 were given",
     "output_type": "error",
     "traceback": [
      "\u001b[0;31m-----------------------------------------------------------------------\u001b[0m",
      "\u001b[0;31mTypeError\u001b[0m                             Traceback (most recent call last)",
      "\u001b[0;32m<ipython-input-29-d8785ff64b44>\u001b[0m in \u001b[0;36m<module>\u001b[0;34m\u001b[0m\n\u001b[1;32m      1\u001b[0m \u001b[0mprint\u001b[0m\u001b[0;34m(\u001b[0m\u001b[0madditon\u001b[0m\u001b[0;34m(\u001b[0m\u001b[0;36m1\u001b[0m\u001b[0;34m,\u001b[0m\u001b[0;36m2\u001b[0m\u001b[0;34m)\u001b[0m\u001b[0;34m)\u001b[0m\u001b[0;34m\u001b[0m\u001b[0;34m\u001b[0m\u001b[0m\n\u001b[0;32m----> 2\u001b[0;31m \u001b[0mprint\u001b[0m\u001b[0;34m(\u001b[0m\u001b[0madditon\u001b[0m\u001b[0;34m(\u001b[0m\u001b[0;36m2\u001b[0m\u001b[0;34m,\u001b[0m\u001b[0;36m8\u001b[0m\u001b[0;34m,\u001b[0m\u001b[0;36m9\u001b[0m\u001b[0;34m)\u001b[0m\u001b[0;34m)\u001b[0m\u001b[0;34m\u001b[0m\u001b[0;34m\u001b[0m\u001b[0m\n\u001b[0m",
      "\u001b[0;31mTypeError\u001b[0m: additon() takes 2 positional arguments but 3 were given"
     ]
    }
   ],
   "source": [
    "print(additon(1,2))\n",
    "print(additon(2,8,9))\n"
   ]
  },
  {
   "cell_type": "code",
   "execution_count": 30,
   "id": "26ef2d51",
   "metadata": {},
   "outputs": [
    {
     "ename": "TypeError",
     "evalue": "additon() missing 1 required positional argument: 'num2'",
     "output_type": "error",
     "traceback": [
      "\u001b[0;31m-----------------------------------------------------------------------\u001b[0m",
      "\u001b[0;31mTypeError\u001b[0m                             Traceback (most recent call last)",
      "\u001b[0;32m<ipython-input-30-cc7da070e936>\u001b[0m in \u001b[0;36m<module>\u001b[0;34m\u001b[0m\n\u001b[0;32m----> 1\u001b[0;31m \u001b[0madditon\u001b[0m\u001b[0;34m(\u001b[0m\u001b[0;36m7\u001b[0m\u001b[0;34m)\u001b[0m\u001b[0;34m\u001b[0m\u001b[0;34m\u001b[0m\u001b[0m\n\u001b[0m",
      "\u001b[0;31mTypeError\u001b[0m: additon() missing 1 required positional argument: 'num2'"
     ]
    }
   ],
   "source": [
    "additon(7)"
   ]
  },
  {
   "cell_type": "markdown",
   "id": "31922cf8",
   "metadata": {},
   "source": [
    "# Optional Arguments"
   ]
  },
  {
   "cell_type": "code",
   "execution_count": 31,
   "id": "d115bdd1",
   "metadata": {},
   "outputs": [
    {
     "name": "stdout",
     "output_type": "stream",
     "text": [
      "0\n",
      "8\n",
      "100\n"
     ]
    }
   ],
   "source": [
    "def addition(num1=0, num2=0): #arg=value\n",
    "#     print(num1,num2,'.....')\n",
    "    return num1 + num2\n",
    "\n",
    "print(addition())\n",
    "print(addition(1,7))\n",
    "print(addition(100))"
   ]
  },
  {
   "cell_type": "code",
   "execution_count": 32,
   "id": "23f9004e",
   "metadata": {},
   "outputs": [
    {
     "ename": "TypeError",
     "evalue": "addition() takes from 0 to 2 positional arguments but 3 were given",
     "output_type": "error",
     "traceback": [
      "\u001b[0;31m-----------------------------------------------------------------------\u001b[0m",
      "\u001b[0;31mTypeError\u001b[0m                             Traceback (most recent call last)",
      "\u001b[0;32m<ipython-input-32-bae22c0ab5df>\u001b[0m in \u001b[0;36m<module>\u001b[0;34m\u001b[0m\n\u001b[0;32m----> 1\u001b[0;31m \u001b[0maddition\u001b[0m\u001b[0;34m(\u001b[0m\u001b[0;36m7\u001b[0m\u001b[0;34m,\u001b[0m\u001b[0;36m9\u001b[0m\u001b[0;34m,\u001b[0m\u001b[0;36m20\u001b[0m\u001b[0;34m)\u001b[0m\u001b[0;34m\u001b[0m\u001b[0;34m\u001b[0m\u001b[0m\n\u001b[0m",
      "\u001b[0;31mTypeError\u001b[0m: addition() takes from 0 to 2 positional arguments but 3 were given"
     ]
    }
   ],
   "source": [
    "addition(7,9,20)"
   ]
  },
  {
   "cell_type": "markdown",
   "id": "cb402a95",
   "metadata": {},
   "source": [
    "# Required and Optional Arguments"
   ]
  },
  {
   "cell_type": "code",
   "execution_count": 33,
   "id": "1ccac4ef",
   "metadata": {},
   "outputs": [],
   "source": [
    "def makin_biryani(rice, meat, tamato='0.5K'):\n",
    "    txt = f\"\"\"\n",
    "Boiling {rice} rice...\n",
    "making qorma with {meat} meat...\n",
    "mixing tamato {tamato} ...\n",
    "Now you can enjoy biryani....\n",
    "    \"\"\"\n",
    "    \n",
    "    return txt\n",
    "    \n"
   ]
  },
  {
   "cell_type": "code",
   "execution_count": 34,
   "id": "2c9828c7",
   "metadata": {},
   "outputs": [
    {
     "name": "stdout",
     "output_type": "stream",
     "text": [
      "\n",
      "Boiling Sehla rice...\n",
      "making qorma with chiken meat...\n",
      "mixing tamato 0.5K ...\n",
      "Now you can enjoy biryani....\n",
      "    \n"
     ]
    }
   ],
   "source": [
    "print(makin_biryani(\"Sehla\", \"chiken\"))"
   ]
  },
  {
   "cell_type": "code",
   "execution_count": 35,
   "id": "5d3869e7",
   "metadata": {},
   "outputs": [
    {
     "name": "stdout",
     "output_type": "stream",
     "text": [
      "\n",
      "Boiling Basmati rice...\n",
      "making qorma with Beaf meat...\n",
      "mixing tamato 1.5 KG ...\n",
      "Now you can enjoy biryani....\n",
      "    \n"
     ]
    }
   ],
   "source": [
    "print(makin_biryani(\"Basmati\", \"Beaf\", \"1.5 KG\"))"
   ]
  },
  {
   "cell_type": "markdown",
   "id": "bbe4151a",
   "metadata": {},
   "source": [
    "# Optional argument2 unlimited"
   ]
  },
  {
   "cell_type": "code",
   "execution_count": 36,
   "id": "2054c2fe",
   "metadata": {},
   "outputs": [
    {
     "name": "stdout",
     "output_type": "stream",
     "text": [
      "1\n",
      "4\n",
      "20\n",
      "89\n"
     ]
    }
   ],
   "source": [
    "def my_sum(num1, *nums):\n",
    "#     print(num1, nums, sum(nums))\n",
    "    return num1 + sum(nums)\n",
    "print(my_sum(1))\n",
    "print(my_sum(2,2))\n",
    "print(my_sum(2,3,4,5,6))\n",
    "print(my_sum(1,2,3,3,3,4,5,65,3))"
   ]
  },
  {
   "cell_type": "code",
   "execution_count": 37,
   "id": "0cf8bc83",
   "metadata": {},
   "outputs": [
    {
     "name": "stdout",
     "output_type": "stream",
     "text": [
      "24\n"
     ]
    }
   ],
   "source": [
    "result = my_sum(1,2,3,3,4,5,6)\n",
    "print(result)"
   ]
  },
  {
   "cell_type": "markdown",
   "id": "67d2216a",
   "metadata": {},
   "source": [
    "#### second way"
   ]
  },
  {
   "cell_type": "code",
   "execution_count": 38,
   "id": "cec9d34a",
   "metadata": {},
   "outputs": [
    {
     "name": "stdout",
     "output_type": "stream",
     "text": [
      "1\n",
      "4\n",
      "20\n",
      "89\n"
     ]
    }
   ],
   "source": [
    "import numpy as np\n",
    "\n",
    "def my_sum(num1, *nums):\n",
    "#     print(num1, nums, sum(nums))\n",
    "\n",
    "    result = num1    \n",
    "    for value in nums:\n",
    "        result += value\n",
    "        \n",
    "    return result\n",
    "\n",
    "print(my_sum(1))\n",
    "print(my_sum(2,2))\n",
    "print(my_sum(2,3,4,5,6))\n",
    "print(my_sum(1,2,3,3,3,4,5,65,3))"
   ]
  },
  {
   "cell_type": "code",
   "execution_count": 39,
   "id": "86f8019b",
   "metadata": {},
   "outputs": [
    {
     "name": "stdout",
     "output_type": "stream",
     "text": [
      "4\n",
      "30\n"
     ]
    }
   ],
   "source": [
    "def my_sum1(num1,num2,*numbs):\n",
    "    return num1 + num2 + sum(numbs)\n",
    "\n",
    "# print(my_sum1(1))\n",
    "print(my_sum1(1,3))\n",
    "print(my_sum1(22,3,5))"
   ]
  },
  {
   "cell_type": "code",
   "execution_count": 40,
   "id": "ce909008",
   "metadata": {},
   "outputs": [
    {
     "name": "stdout",
     "output_type": "stream",
     "text": [
      "0\n",
      "1\n",
      "3\n",
      "15\n"
     ]
    }
   ],
   "source": [
    "def my_sum(*nums):\n",
    "    return sum(nums)\n",
    "\n",
    "print(my_sum())\n",
    "print(my_sum(1))\n",
    "print(my_sum(1,2))\n",
    "print(my_sum(7,3,5))"
   ]
  },
  {
   "cell_type": "code",
   "execution_count": 41,
   "id": "b523a018",
   "metadata": {},
   "outputs": [
    {
     "name": "stdout",
     "output_type": "stream",
     "text": [
      "20\n",
      "25\n"
     ]
    }
   ],
   "source": [
    "a, b = [20,25]\n",
    "\n",
    "print(a)\n",
    "print(b)"
   ]
  },
  {
   "cell_type": "markdown",
   "id": "64097da4",
   "metadata": {},
   "source": [
    "# *variable during calling"
   ]
  },
  {
   "cell_type": "code",
   "execution_count": 42,
   "id": "3a449d89",
   "metadata": {},
   "outputs": [
    {
     "name": "stdout",
     "output_type": "stream",
     "text": [
      "1 3 7 9 20 25\n"
     ]
    }
   ],
   "source": [
    "l = [1,3,7,9,20,25]\n",
    "print(l[0],l[1],l[2],l[3],l[4],l[5])"
   ]
  },
  {
   "cell_type": "code",
   "execution_count": 43,
   "id": "c5733afd",
   "metadata": {},
   "outputs": [
    {
     "name": "stdout",
     "output_type": "stream",
     "text": [
      "1 3 7 9 20 25\n"
     ]
    }
   ],
   "source": [
    "l = [1,3,7,9,20,25]\n",
    "print(*l) # during calling * before iterated datatype = unzip values"
   ]
  },
  {
   "cell_type": "code",
   "execution_count": 44,
   "id": "ef488c27",
   "metadata": {},
   "outputs": [
    {
     "data": {
      "text/plain": [
       "22"
      ]
     },
     "execution_count": 44,
     "metadata": {},
     "output_type": "execute_result"
    }
   ],
   "source": [
    "l1 = [2,20]\n",
    "addition(*l1)"
   ]
  },
  {
   "cell_type": "code",
   "execution_count": 45,
   "id": "1bb1f7ff",
   "metadata": {},
   "outputs": [
    {
     "ename": "TypeError",
     "evalue": "addition() takes from 0 to 2 positional arguments but 4 were given",
     "output_type": "error",
     "traceback": [
      "\u001b[0;31m-----------------------------------------------------------------------\u001b[0m",
      "\u001b[0;31mTypeError\u001b[0m                             Traceback (most recent call last)",
      "\u001b[0;32m<ipython-input-45-06ac96da5a74>\u001b[0m in \u001b[0;36m<module>\u001b[0;34m\u001b[0m\n\u001b[1;32m      1\u001b[0m \u001b[0ml1\u001b[0m \u001b[0;34m=\u001b[0m \u001b[0;34m[\u001b[0m\u001b[0;36m2\u001b[0m\u001b[0;34m,\u001b[0m\u001b[0;36m20\u001b[0m\u001b[0;34m,\u001b[0m\u001b[0;36m30\u001b[0m\u001b[0;34m,\u001b[0m\u001b[0;36m23\u001b[0m\u001b[0;34m]\u001b[0m\u001b[0;34m\u001b[0m\u001b[0;34m\u001b[0m\u001b[0m\n\u001b[0;32m----> 2\u001b[0;31m \u001b[0maddition\u001b[0m\u001b[0;34m(\u001b[0m\u001b[0;34m*\u001b[0m\u001b[0ml1\u001b[0m\u001b[0;34m)\u001b[0m\u001b[0;34m\u001b[0m\u001b[0;34m\u001b[0m\u001b[0m\n\u001b[0m",
      "\u001b[0;31mTypeError\u001b[0m: addition() takes from 0 to 2 positional arguments but 4 were given"
     ]
    }
   ],
   "source": [
    "l1 = [2,20,30,23]\n",
    "addition(*l1)"
   ]
  },
  {
   "cell_type": "code",
   "execution_count": 46,
   "id": "7c4a108a",
   "metadata": {},
   "outputs": [
    {
     "name": "stdout",
     "output_type": "stream",
     "text": [
      "[100, 200]\n"
     ]
    },
    {
     "data": {
      "text/plain": [
       "351"
      ]
     },
     "execution_count": 46,
     "metadata": {},
     "output_type": "execute_result"
    }
   ],
   "source": [
    "def my_new_sum(n1,n2,n3,n4):\n",
    "    return n1+n2+n3+n4\n",
    "\n",
    "l = [10,20,100,200]\n",
    "\n",
    "print(l[-2:])\n",
    "my_new_sum(50,1, *l[-2:])"
   ]
  },
  {
   "cell_type": "markdown",
   "id": "479b6ac8",
   "metadata": {},
   "source": [
    "# Calling function with key"
   ]
  },
  {
   "cell_type": "code",
   "execution_count": 47,
   "id": "cdacaff7",
   "metadata": {},
   "outputs": [],
   "source": [
    "def student_card(rollno, name, fname, course):\n",
    "    cards = f\"\"\"\n",
    "    NED University ID card\n",
    "    Roll No: {rollno}\n",
    "    Name: {name} \\t Father's Name: {fname}\n",
    "    Course: {course}    \n",
    "    \"\"\"\n",
    "    \n",
    "    return cards"
   ]
  },
  {
   "cell_type": "code",
   "execution_count": 48,
   "id": "cb84d846",
   "metadata": {},
   "outputs": [
    {
     "name": "stdout",
     "output_type": "stream",
     "text": [
      "\n",
      "    NED University ID card\n",
      "    Roll No: 1\n",
      "    Name: Qasim \t Father's Name: Aslam\n",
      "    Course: AI    \n",
      "    \n"
     ]
    }
   ],
   "source": [
    "print(student_card(1,\"Qasim\",\"Aslam\",\"AI\"))\n"
   ]
  },
  {
   "cell_type": "code",
   "execution_count": 49,
   "id": "0b587bb5",
   "metadata": {},
   "outputs": [
    {
     "name": "stdout",
     "output_type": "stream",
     "text": [
      "\n",
      "    NED University ID card\n",
      "    Roll No: 2\n",
      "    Name: Asif Khan \t Father's Name: Abid Khan\n",
      "    Course: Block chain    \n",
      "    \n"
     ]
    }
   ],
   "source": [
    "print(student_card(2,\"Asif Khan\",\"Abid Khan\",\"Block chain\"))"
   ]
  },
  {
   "cell_type": "markdown",
   "id": "034b7f46",
   "metadata": {},
   "source": [
    "# if value did'n receive with same sequance "
   ]
  },
  {
   "cell_type": "code",
   "execution_count": 50,
   "id": "d66d1e12",
   "metadata": {},
   "outputs": [
    {
     "name": "stdout",
     "output_type": "stream",
     "text": [
      "\n",
      "    NED University ID card\n",
      "    Roll No: Muhammad Qasim\n",
      "    Name: Muhammad Aslam \t Father's Name: 1\n",
      "    Course: Course    \n",
      "    \n"
     ]
    }
   ],
   "source": [
    "print(student_card(\"Muhammad Qasim\",'Muhammad Aslam',1,\"Course\"))"
   ]
  },
  {
   "cell_type": "markdown",
   "id": "575d39f0",
   "metadata": {},
   "source": [
    "# Now we solve above issue with passing keywords arguments"
   ]
  },
  {
   "cell_type": "code",
   "execution_count": null,
   "id": "22122f5a",
   "metadata": {},
   "outputs": [],
   "source": []
  },
  {
   "cell_type": "code",
   "execution_count": 51,
   "id": "181b0db9",
   "metadata": {},
   "outputs": [
    {
     "name": "stdout",
     "output_type": "stream",
     "text": [
      "\n",
      "    NED University ID card\n",
      "    Roll No: 786\n",
      "    Name: Muhammad Qasim \t Father's Name: Muhammad Aslam\n",
      "    Course: AI    \n",
      "    \n"
     ]
    }
   ],
   "source": [
    "def student_card(rollno, name, fname, course):\n",
    "    cards = f\"\"\"\n",
    "    NED University ID card\n",
    "    Roll No: {rollno}\n",
    "    Name: {name} \\t Father's Name: {fname}\n",
    "    Course: {course}    \n",
    "    \"\"\"\n",
    "    \n",
    "    return cards\n",
    "\n",
    "print(student_card(name=\"Muhammad Qasim\", course=\"AI\", fname=\"Muhammad Aslam\", rollno=786))"
   ]
  },
  {
   "cell_type": "code",
   "execution_count": 52,
   "id": "36696868",
   "metadata": {},
   "outputs": [
    {
     "name": "stdout",
     "output_type": "stream",
     "text": [
      "\n",
      "    NED University ID card\n",
      "    Roll No: 1\n",
      "    Name: Muhammad Qasim \t Father's Name: Muhammad Aslam\n",
      "    Course: AI    \n",
      "    \n"
     ]
    }
   ],
   "source": [
    "l = [1,\"Muhammad Qasim\",\"Muhammad Aslam\",\"AI\"]\n",
    "\n",
    "print(student_card(*l))"
   ]
  },
  {
   "cell_type": "code",
   "execution_count": 53,
   "id": "911dd531",
   "metadata": {},
   "outputs": [
    {
     "name": "stdout",
     "output_type": "stream",
     "text": [
      "\n",
      "    NED University ID card\n",
      "    Roll No: 1\n",
      "    Name: Muhammad Qasim \t Father's Name: Muhammad Aslam\n",
      "    Course: AI    \n",
      "    \n",
      "\n",
      "    NED University ID card\n",
      "    Roll No: 2\n",
      "    Name: Asif Khan \t Father's Name: Abid Khan\n",
      "    Course: Block chain    \n",
      "    \n",
      "\n",
      "    NED University ID card\n",
      "    Roll No: 3\n",
      "    Name: Iqbal \t Father's Name: Hussain\n",
      "    Course: Cloud computing    \n",
      "    \n"
     ]
    }
   ],
   "source": [
    "data = [[1,\"Muhammad Qasim\",\"Muhammad Aslam\",\"AI\"],\n",
    "       [2,\"Asif Khan\",\"Abid Khan\",\"Block chain\"],\n",
    "       [3,\"Iqbal\",\"Hussain\",'Cloud computing']]\n",
    "\n",
    "for row in data:\n",
    "    print(student_card(*row))\n",
    "    "
   ]
  },
  {
   "cell_type": "raw",
   "id": "b54dec36",
   "metadata": {},
   "source": [
    "** during calling before argument unzip key value pair"
   ]
  },
  {
   "cell_type": "code",
   "execution_count": 54,
   "id": "f779627c",
   "metadata": {},
   "outputs": [
    {
     "name": "stdout",
     "output_type": "stream",
     "text": [
      "\n",
      "    NED University ID card\n",
      "    Roll No: 222\n",
      "    Name: Muhammad Qasim \t Father's Name: Muhammad Aslam\n",
      "    Course: AI    \n",
      "    \n"
     ]
    }
   ],
   "source": [
    "d = {\"name\":\"Muhammad Qasim\",\n",
    "     'rollno':222,\n",
    "     'fname':\"Muhammad Aslam\",\n",
    "     'course':\"AI\"}\n",
    "\n",
    "print(student_card(**d)) # "
   ]
  },
  {
   "cell_type": "code",
   "execution_count": 55,
   "id": "3a6814d9",
   "metadata": {},
   "outputs": [
    {
     "name": "stdout",
     "output_type": "stream",
     "text": [
      "\n",
      "    NED University ID card\n",
      "    Roll No: 222\n",
      "    Name: Muhammad Qasim \t Father's Name: Muhammad Aslam\n",
      "    Course: AI    \n",
      "    \n"
     ]
    }
   ],
   "source": [
    "print(student_card(name=\"Muhammad Qasim\",\n",
    "                  rollno=222,\n",
    "                  fname=\"Muhammad Aslam\",\n",
    "                  course=\"AI\"))"
   ]
  },
  {
   "cell_type": "markdown",
   "id": "4be0dca6",
   "metadata": {},
   "source": [
    "# Create keyword argument unlimited"
   ]
  },
  {
   "cell_type": "code",
   "execution_count": 56,
   "id": "e4f25f1e",
   "metadata": {},
   "outputs": [
    {
     "name": "stdout",
     "output_type": "stream",
     "text": [
      "7 20 {'len': 20, 'age': 25, 'course': 'AI'}\n"
     ]
    }
   ],
   "source": [
    "def my_fn(num1,num2, **abc): # ** dict\n",
    "    print(num1,num2,abc)\n",
    "    \n",
    "my_fn(7,20, len=20, age=25, course='AI')    "
   ]
  },
  {
   "cell_type": "markdown",
   "id": "a1a24b1b",
   "metadata": {},
   "source": [
    "# Create num1 num2 required unlimite sequancel values, unlimited keyword arguments"
   ]
  },
  {
   "cell_type": "code",
   "execution_count": 57,
   "id": "4aa20d71",
   "metadata": {},
   "outputs": [
    {
     "name": "stdout",
     "output_type": "stream",
     "text": [
      "7 20 ('a', 'b', 'c') {'age': 20, 'course': 'AI', 'rollno': 222}\n"
     ]
    }
   ],
   "source": [
    "def my_fn1(num1,num2, *l1, **d1):\n",
    "    print(num1, num2 , l1, d1)\n",
    "    \n",
    "my_fn1(7,20, 'a','b','c', age=20, course='AI', rollno=222)    "
   ]
  },
  {
   "cell_type": "markdown",
   "id": "fdafe834",
   "metadata": {},
   "source": [
    "# Lambda function\n",
    "* without name\n",
    "* one line function\n",
    "* no use befor or after this line"
   ]
  },
  {
   "cell_type": "code",
   "execution_count": 58,
   "id": "6b29e15c",
   "metadata": {},
   "outputs": [
    {
     "data": {
      "text/plain": [
       "22"
      ]
     },
     "execution_count": 58,
     "metadata": {},
     "output_type": "execute_result"
    }
   ],
   "source": [
    "def add(n1,n2):\n",
    "    return n1+ n2\n",
    "\n",
    "add(2,20)"
   ]
  },
  {
   "cell_type": "code",
   "execution_count": 59,
   "id": "d2967e81",
   "metadata": {},
   "outputs": [
    {
     "data": {
      "text/plain": [
       "22"
      ]
     },
     "execution_count": 59,
     "metadata": {},
     "output_type": "execute_result"
    }
   ],
   "source": [
    "a = lambda n1,n2 : n1+ n2\n",
    "\n",
    "a(2,20)"
   ]
  },
  {
   "cell_type": "code",
   "execution_count": 60,
   "id": "04aef781",
   "metadata": {},
   "outputs": [
    {
     "data": {
      "text/plain": [
       "22"
      ]
     },
     "execution_count": 60,
     "metadata": {},
     "output_type": "execute_result"
    }
   ],
   "source": [
    "#  lambda  arg1,arg:  function body\n",
    "b = lambda  n1,   n2: n1+ n2\n",
    "\n",
    "b(2,20)"
   ]
  },
  {
   "cell_type": "code",
   "execution_count": 63,
   "id": "57ff99d2",
   "metadata": {},
   "outputs": [
    {
     "data": {
      "text/plain": [
       "[[3, 'X', 'C'], [2, 'Y', 'B'], [1, 'Z', 'A']]"
      ]
     },
     "metadata": {},
     "output_type": "display_data"
    }
   ],
   "source": [
    "data = [[1,\"Z\",\"A\"],\n",
    "       [2,\"Y\",\"B\"],\n",
    "       [3, \"X\",\"C\"]]\n",
    "\n",
    "display(sorted(data, key=lambda x:x[1]))"
   ]
  },
  {
   "cell_type": "code",
   "execution_count": 64,
   "id": "15bbb13c",
   "metadata": {},
   "outputs": [
    {
     "data": {
      "text/plain": [
       "[[1, 'Z', 'A'], [2, 'Y', 'B'], [3, 'X', 'C']]"
      ]
     },
     "metadata": {},
     "output_type": "display_data"
    }
   ],
   "source": [
    "display(sorted(data, key=lambda x:x[0]))"
   ]
  },
  {
   "cell_type": "code",
   "execution_count": 65,
   "id": "f312e8c0",
   "metadata": {},
   "outputs": [
    {
     "data": {
      "text/plain": [
       "[[3, 'X', 'C'], [2, 'Y', 'B'], [1, 'Z', 'A']]"
      ]
     },
     "metadata": {},
     "output_type": "display_data"
    }
   ],
   "source": [
    "display(sorted(data, key=lambda x:x[0], reverse=True))"
   ]
  },
  {
   "cell_type": "code",
   "execution_count": null,
   "id": "ffef92fd",
   "metadata": {},
   "outputs": [],
   "source": []
  }
 ],
 "metadata": {
  "kernelspec": {
   "display_name": "Python 3",
   "language": "python",
   "name": "python3"
  },
  "language_info": {
   "codemirror_mode": {
    "name": "ipython",
    "version": 3
   },
   "file_extension": ".py",
   "mimetype": "text/x-python",
   "name": "python",
   "nbconvert_exporter": "python",
   "pygments_lexer": "ipython3",
   "version": "3.7.15"
  }
 },
 "nbformat": 4,
 "nbformat_minor": 5
}
