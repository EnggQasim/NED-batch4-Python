{
 "cells": [
  {
   "cell_type": "code",
   "execution_count": 4,
   "id": "d9a5cd2c",
   "metadata": {},
   "outputs": [
    {
     "name": "stdout",
     "output_type": "stream",
     "text": [
      "Requirement already satisfied: numpy in /home/mqasim/anaconda3/lib/python3.7/site-packages (1.21.6)\n",
      "\n",
      "\u001b[1m[\u001b[0m\u001b[34;49mnotice\u001b[0m\u001b[1;39;49m]\u001b[0m\u001b[39;49m A new release of pip available: \u001b[0m\u001b[31;49m22.3.1\u001b[0m\u001b[39;49m -> \u001b[0m\u001b[32;49m23.0.1\u001b[0m\n",
      "\u001b[1m[\u001b[0m\u001b[34;49mnotice\u001b[0m\u001b[1;39;49m]\u001b[0m\u001b[39;49m To update, run: \u001b[0m\u001b[32;49mpip install --upgrade pip\u001b[0m\n"
     ]
    }
   ],
   "source": [
    "!pip install numpy"
   ]
  },
  {
   "cell_type": "markdown",
   "id": "e1238cf5",
   "metadata": {},
   "source": [
    "https://towardsdatascience.com/make-your-own-python-package-6d08a400fc2d"
   ]
  },
  {
   "cell_type": "code",
   "execution_count": 5,
   "id": "c20ad1b2",
   "metadata": {},
   "outputs": [
    {
     "name": "stdout",
     "output_type": "stream",
     "text": [
      "Requirement already satisfied: pip in /home/mqasim/anaconda3/lib/python3.7/site-packages (22.3.1)\n",
      "Collecting pip\n",
      "  Downloading pip-23.0.1-py3-none-any.whl (2.1 MB)\n",
      "\u001b[2K     \u001b[38;2;114;156;31m━━━━━━━━━━━━━━━━━━━━━━━━━━━━━━━━━━━━━━━━\u001b[0m \u001b[32m2.1/2.1 MB\u001b[0m \u001b[31m2.3 MB/s\u001b[0m eta \u001b[36m0:00:00\u001b[0mm eta \u001b[36m0:00:01\u001b[0m[36m0:00:01\u001b[0m\n",
      "\u001b[?25hInstalling collected packages: pip\n",
      "  Attempting uninstall: pip\n",
      "    Found existing installation: pip 22.3.1\n",
      "    Uninstalling pip-22.3.1:\n",
      "      Successfully uninstalled pip-22.3.1\n",
      "Successfully installed pip-23.0.1\n"
     ]
    }
   ],
   "source": [
    "!pip install --upgrade pip"
   ]
  },
  {
   "cell_type": "code",
   "execution_count": 6,
   "id": "ce9c7790",
   "metadata": {},
   "outputs": [],
   "source": [
    "#       packName   nickName\n",
    "import datetime as dt\n",
    "import numpy as np\n",
    "import pandas as pd\n",
    "import re\n",
    "import matplotlib.pyplot as plt"
   ]
  },
  {
   "cell_type": "markdown",
   "id": "be33304f",
   "metadata": {},
   "source": [
    "# Import datetime package"
   ]
  },
  {
   "cell_type": "code",
   "execution_count": 56,
   "id": "7e666e62",
   "metadata": {},
   "outputs": [
    {
     "name": "stdout",
     "output_type": "stream",
     "text": [
      "2023-02-25 15:11:06.122566\n"
     ]
    }
   ],
   "source": [
    "import datetime as dt\n",
    "\n",
    "now = dt.datetime.now()# current date time return\n",
    "\n",
    "print(now)"
   ]
  },
  {
   "cell_type": "markdown",
   "id": "fc8d208b",
   "metadata": {},
   "source": [
    "# expiry date"
   ]
  },
  {
   "cell_type": "code",
   "execution_count": 59,
   "id": "7b94a1fd",
   "metadata": {},
   "outputs": [
    {
     "name": "stdout",
     "output_type": "stream",
     "text": [
      "2024-02-29 00:00:00\n"
     ]
    }
   ],
   "source": [
    "exp_date = dt.datetime(2024,2,29)\n",
    "print(exp_date)"
   ]
  },
  {
   "cell_type": "code",
   "execution_count": 60,
   "id": "c13a4415",
   "metadata": {},
   "outputs": [
    {
     "name": "stdout",
     "output_type": "stream",
     "text": [
      "You can use this application\n"
     ]
    }
   ],
   "source": [
    "if exp_date > now:\n",
    "    print(\"You can use this application\")\n",
    "else:\n",
    "    print(\"You can't use this application\")"
   ]
  },
  {
   "cell_type": "code",
   "execution_count": 78,
   "id": "2ddaa5f2",
   "metadata": {},
   "outputs": [
    {
     "name": "stdout",
     "output_type": "stream",
     "text": [
      "2023-02-25 15:22:19.613565\n",
      "2023 <class 'int'>\n",
      "2\n",
      "25\n",
      "15\n",
      "22\n",
      "19\n"
     ]
    }
   ],
   "source": [
    "now = dt.datetime.now()# current date time return\n",
    "\n",
    "print(now)\n",
    "print(now.year, type(now.year)) # year\n",
    "print(now.month)#month\n",
    "print(now.day)#day\n",
    "print(now.hour)#hour\n",
    "print(now.minute)#minute\n",
    "print(now.second)#second\n"
   ]
  },
  {
   "cell_type": "markdown",
   "id": "57608acc",
   "metadata": {},
   "source": [
    "### Now Extract any individual date componet with datevariable.strftime(\"%Symbol\")\n",
    "* always return value in string"
   ]
  },
  {
   "cell_type": "raw",
   "id": "8a0b2590",
   "metadata": {},
   "source": [
    "Code\tExample\tDescription\n",
    "%a\tSun\tWeekday as locale’s abbreviated name.\n",
    "%A\tSunday\tWeekday as locale’s full name.\n",
    "%w\t0\tWeekday as a decimal number, where 0 is Sunday and 6 is Saturday.\n",
    "%d\t08\tDay of the month as a zero-padded decimal number.\n",
    "%-d\t8\tDay of the month as a decimal number. (Platform specific)\n",
    "%b\tSep\tMonth as locale’s abbreviated name.\n",
    "%B\tSeptember\tMonth as locale’s full name.\n",
    "%m\t09\tMonth as a zero-padded decimal number.\n",
    "%-m\t9\tMonth as a decimal number. (Platform specific)\n",
    "%y\t13\tYear without century as a zero-padded decimal number.\n",
    "%Y\t2013\tYear with century as a decimal number.\n",
    "%H\t07\tHour (24-hour clock) as a zero-padded decimal number.\n",
    "%-H\t7\tHour (24-hour clock) as a decimal number. (Platform specific)\n",
    "%I\t07\tHour (12-hour clock) as a zero-padded decimal number.\n",
    "%-I\t7\tHour (12-hour clock) as a decimal number. (Platform specific)\n",
    "%p\tAM\tLocale’s equivalent of either AM or PM.\n",
    "%M\t06\tMinute as a zero-padded decimal number.\n",
    "%-M\t6\tMinute as a decimal number. (Platform specific)\n",
    "%S\t05\tSecond as a zero-padded decimal number.\n",
    "%-S\t5\tSecond as a decimal number. (Platform specific)\n",
    "%f\t000000\tMicrosecond as a decimal number, zero-padded on the left.\n",
    "%z\t+0000\tUTC offset in the form ±HHMM[SS[.ffffff]] (empty string if the object is naive).\n",
    "%Z\tUTC\tTime zone name (empty string if the object is naive).\n",
    "%j\t251\tDay of the year as a zero-padded decimal number.\n",
    "%-j\t251\tDay of the year as a decimal number. (Platform specific)\n",
    "%U\t36\tWeek number of the year (Sunday as the first day of the week) as a zero padded decimal number. All days in a new year preceding the first Sunday are considered to be in week 0.\n",
    "%W\t35\tWeek number of the year (Monday as the first day of the week) as a decimal number. All days in a new year preceding the first Monday are considered to be in week 0.\n",
    "%\n",
    "Sun Sep 8 07:06:05 2013\tLocale’s appropriate date and time representation.\n",
    "%x\t09/08/13\tLocale’s appropriate date representation.\n",
    "%X\t07:06:05\tLocale’s appropriate time representation.\n",
    "%%\t%\tA literal '%' character."
   ]
  },
  {
   "cell_type": "code",
   "execution_count": 102,
   "id": "4982a0ea",
   "metadata": {},
   "outputs": [
    {
     "name": "stdout",
     "output_type": "stream",
     "text": [
      "2023-02-25 15:37:42.618342 <class 'datetime.datetime'>\n",
      "2023 <class 'str'>\n",
      "23\n",
      "02\n",
      "Feb\n",
      "February\n",
      "42\n",
      "37\n",
      "Sat\n",
      "Saturday\n",
      "6\n",
      "25\n",
      "25\n",
      "2\n",
      "15\n",
      "03\n",
      "3\n",
      "Sat Feb 25 15:37:42 2023\n"
     ]
    }
   ],
   "source": [
    "now = dt.datetime.now()# current date time return\n",
    "\n",
    "print(now, type(now))\n",
    "print(now.strftime(\"%Y\"), type(now.strftime(\"%Y\")))# %Y = Year\n",
    "print(now.strftime(\"%y\"))\n",
    "print(now.strftime(\"%m\"))# %m = month\n",
    "print(now.strftime(\"%b\"))# %b = 3 char month\n",
    "print(now.strftime(\"%B\"))# %B = Full Name   month\n",
    "print(now.strftime(\"%S\"))# second\n",
    "print(now.strftime(\"%M\"))# Minutes\n",
    "print(now.strftime(\"%a\"))\n",
    "print(now.strftime(\"%A\"))\n",
    "print(now.strftime(\"%w\"))\n",
    "print(now.strftime(\"%d\"))\n",
    "print(now.strftime(\"%-d\"))\n",
    "print(now.strftime(\"%-m\"))\n",
    "print(now.strftime(\"%H\"))\n",
    "print(now.strftime(\"%I\"))\n",
    "print(now.strftime(\"%-I\"))\n",
    "print(now.strftime(\"%c\"))"
   ]
  },
  {
   "cell_type": "markdown",
   "id": "54f2ad96",
   "metadata": {},
   "source": [
    "# Now convert date into American Format"
   ]
  },
  {
   "cell_type": "code",
   "execution_count": 85,
   "id": "2db00de0",
   "metadata": {},
   "outputs": [
    {
     "name": "stdout",
     "output_type": "stream",
     "text": [
      "2023-02-25 15:28:01.823203 <class 'datetime.datetime'>\n",
      "2 25 2023\n",
      "02 25 2023\n",
      "02/25/2023\n",
      "02-25-2023\n",
      "month:02 day:25 year:2023\n"
     ]
    }
   ],
   "source": [
    "now = dt.datetime.now()# current date time return\n",
    "\n",
    "print(now, type(now))\n",
    "print(f\"{now.month} {now.day} {now.year}\")\n",
    "\n",
    "print(now.strftime(\"%m %d %Y\"))\n",
    "print(now.strftime(\"%m/%d/%Y\"))\n",
    "print(now.strftime(\"%m-%d-%Y\"))\n",
    "print(now.strftime(\"month:%m day:%d year:%Y\"))\n"
   ]
  },
  {
   "cell_type": "code",
   "execution_count": 106,
   "id": "9d96c22f",
   "metadata": {},
   "outputs": [
    {
     "name": "stdout",
     "output_type": "stream",
     "text": [
      "15:37:42.618342\n",
      "2023-02-25\n"
     ]
    }
   ],
   "source": [
    "print(now.time())\n",
    "print(now.date())"
   ]
  },
  {
   "cell_type": "code",
   "execution_count": 107,
   "id": "2b5cc889",
   "metadata": {},
   "outputs": [
    {
     "name": "stdout",
     "output_type": "stream",
     "text": [
      "12:34:56.000078\n"
     ]
    }
   ],
   "source": [
    "from datetime import time\n",
    "time_object = time(hour=12, minute=34, second=56, microsecond=78)\n",
    "print(time_object)"
   ]
  },
  {
   "cell_type": "markdown",
   "id": "895cebab",
   "metadata": {},
   "source": [
    "# https://rowannicholls.github.io/python/advanced/datetime.html"
   ]
  },
  {
   "cell_type": "code",
   "execution_count": 108,
   "id": "2b220bdd",
   "metadata": {},
   "outputs": [
    {
     "name": "stdout",
     "output_type": "stream",
     "text": [
      "12:34:56.000078\n"
     ]
    }
   ],
   "source": [
    "time_object = time(12, 34, 56, 78)\n",
    "\n",
    "print(time_object)"
   ]
  },
  {
   "cell_type": "code",
   "execution_count": 111,
   "id": "c9c2cff2",
   "metadata": {},
   "outputs": [
    {
     "name": "stdout",
     "output_type": "stream",
     "text": [
      "12:34:56.000078 <class 'str'>\n",
      "12:34:56.000078 <class 'datetime.time'>\n"
     ]
    }
   ],
   "source": [
    "st = '12:34:56.000078'\n",
    "print(st,type(st))\n",
    "st = time.fromisoformat(st)\n",
    "print(st,type(st))"
   ]
  },
  {
   "cell_type": "code",
   "execution_count": 113,
   "id": "2c3b2ce8",
   "metadata": {},
   "outputs": [
    {
     "name": "stdout",
     "output_type": "stream",
     "text": [
      "2023-02-25 15:45:12.931988\n",
      "15:45:12.931988\n"
     ]
    }
   ],
   "source": [
    "from datetime import datetime\n",
    "\n",
    "# Create a datetime object using the current time and date\n",
    "datetime_object = datetime.today()\n",
    "print(datetime_object)\n",
    "# Extract just the time information as a time object\n",
    "time_object = datetime_object.time()\n",
    "\n",
    "print(time_object)"
   ]
  },
  {
   "cell_type": "code",
   "execution_count": 114,
   "id": "0c69e073",
   "metadata": {},
   "outputs": [
    {
     "name": "stdout",
     "output_type": "stream",
     "text": [
      "12:34:56.000078 <class 'str'>\n",
      "12:34:56.000078 <class 'datetime.time'>\n",
      "12:34:56.000078 <class 'str'>\n"
     ]
    }
   ],
   "source": [
    "# Create a string representation of a time\n",
    "st1 = '12:34:56.000078'\n",
    "print(st1, type(st1))\n",
    "# Convert string to a time object\n",
    "time_object = time.fromisoformat(st1)\n",
    "print(time_object, type(time_object))# convert int datetime object\n",
    "# Convert time object to a string\n",
    "st2 = time.isoformat(time_object)# convert datetime object into string\n",
    "print(st2, type(st2))\n",
    "\n"
   ]
  },
  {
   "cell_type": "code",
   "execution_count": 116,
   "id": "e7918720",
   "metadata": {},
   "outputs": [
    {
     "name": "stdout",
     "output_type": "stream",
     "text": [
      "12:34:56.000078 <class 'datetime.time'>\n",
      "12:34 PM <class 'str'>\n"
     ]
    }
   ],
   "source": [
    "time_object = time(hour=12, minute=34, second=56, microsecond=78)\n",
    "print(time_object, type(time_object))\n",
    "st = time_object.strftime('%I:%M %p')\n",
    "print(st,type(st))"
   ]
  },
  {
   "cell_type": "markdown",
   "id": "6593b86b",
   "metadata": {},
   "source": [
    "# Date"
   ]
  },
  {
   "cell_type": "code",
   "execution_count": 118,
   "id": "e0cfbd5a",
   "metadata": {},
   "outputs": [],
   "source": [
    "from datetime import date\n"
   ]
  },
  {
   "cell_type": "code",
   "execution_count": 119,
   "id": "2dab3e22",
   "metadata": {},
   "outputs": [
    {
     "name": "stdout",
     "output_type": "stream",
     "text": [
      "2012-03-04\n"
     ]
    }
   ],
   "source": [
    "date_object = date(2012, 3, 4)\n",
    "\n",
    "print(date_object)"
   ]
  },
  {
   "cell_type": "code",
   "execution_count": 120,
   "id": "1a6f5e50",
   "metadata": {},
   "outputs": [
    {
     "name": "stdout",
     "output_type": "stream",
     "text": [
      "2043-02-01 <class 'datetime.date'>\n",
      "2043-02-01 <class 'str'>\n"
     ]
    }
   ],
   "source": [
    "date_object = date.fromisoformat('2043-02-01')#string ->date\n",
    "print(date_object, type(date_object))\n",
    "\n",
    "date_object = date.isoformat(date_object)# date -> string\n",
    "print(date_object, type(date_object))"
   ]
  },
  {
   "cell_type": "code",
   "execution_count": 121,
   "id": "92784817",
   "metadata": {},
   "outputs": [
    {
     "name": "stdout",
     "output_type": "stream",
     "text": [
      "2023-02-25\n"
     ]
    }
   ],
   "source": [
    "today = date.today()\n",
    "\n",
    "print(today)"
   ]
  },
  {
   "cell_type": "markdown",
   "id": "ea5a98c0",
   "metadata": {},
   "source": [
    "# datetime"
   ]
  },
  {
   "cell_type": "code",
   "execution_count": 123,
   "id": "30bd1eca",
   "metadata": {},
   "outputs": [
    {
     "name": "stdout",
     "output_type": "stream",
     "text": [
      "2012-03-04 <class 'datetime.date'>\n",
      "05:06:07 <class 'datetime.time'>\n",
      "2012-03-04 05:06:07 <class 'datetime.datetime'>\n"
     ]
    }
   ],
   "source": [
    "from datetime import datetime\n",
    "\n",
    "# Manually create a date object\n",
    "date_object = date(2012, 3, 4)\n",
    "print(date_object,type(date_object))\n",
    "# Manually create a time object\n",
    "time_object = time(5, 6, 7)\n",
    "print(time_object, type(time_object))\n",
    "# Create a datetime object by combining the two\n",
    "dt = datetime.combine(date_object, time_object)\n",
    "print(dt, type(dt))"
   ]
  },
  {
   "cell_type": "markdown",
   "id": "45db26d9",
   "metadata": {},
   "source": [
    "# datetimevariable.strptime(string, format)"
   ]
  },
  {
   "cell_type": "code",
   "execution_count": 126,
   "id": "79016b0f",
   "metadata": {},
   "outputs": [
    {
     "name": "stdout",
     "output_type": "stream",
     "text": [
      "05h06 2012/03/04 <class 'str'>\n",
      "2012-03-04 05:06:00 <class 'datetime.datetime'>\n"
     ]
    }
   ],
   "source": [
    "st = '05h06 2012/03/04'\n",
    "print(st, type(st))\n",
    "\n",
    "dt = datetime.strptime(st, '%Hh%M %Y/%m/%d')\n",
    "\n",
    "print(dt, type(dt))"
   ]
  },
  {
   "cell_type": "markdown",
   "id": "66cf0fad",
   "metadata": {},
   "source": [
    "# 4 Timedelta Objects\n",
    "```timedelta(days=0, seconds=0, microseconds=0, milliseconds=0, minutes=0, hours=0, weeks=0)```"
   ]
  },
  {
   "cell_type": "code",
   "execution_count": 127,
   "id": "f8777205",
   "metadata": {},
   "outputs": [],
   "source": [
    "from datetime import timedelta\n"
   ]
  },
  {
   "cell_type": "code",
   "execution_count": 129,
   "id": "9c34ba32",
   "metadata": {},
   "outputs": [
    {
     "name": "stdout",
     "output_type": "stream",
     "text": [
      "50 days, 6:05:02.004003 <class 'datetime.timedelta'>\n"
     ]
    }
   ],
   "source": [
    "# Manually create a timedelta object\n",
    "delta = timedelta(1, 2, 3, 4, 5, 6, 7)\n",
    "\n",
    "print(delta, type(delta))"
   ]
  },
  {
   "cell_type": "code",
   "execution_count": 132,
   "id": "c6ce5e49",
   "metadata": {},
   "outputs": [
    {
     "name": "stdout",
     "output_type": "stream",
     "text": [
      "364 days, 0:00:00 <class 'datetime.timedelta'>\n"
     ]
    }
   ],
   "source": [
    "# Manually create a timedelta object\n",
    "delta = timedelta(weeks=52)\n",
    "\n",
    "print(delta, type(delta))"
   ]
  },
  {
   "cell_type": "code",
   "execution_count": 142,
   "id": "9971f7e0",
   "metadata": {},
   "outputs": [
    {
     "name": "stdout",
     "output_type": "stream",
     "text": [
      "2021-10-03\n"
     ]
    }
   ],
   "source": [
    "start_date = date(2021, 10, 1)# date start\n",
    "end_date = timedelta(hours=50)# create delta 50 hours\n",
    "\n",
    "a = start_date + end_date # date start add delta \n",
    "print(a)# print result start date add delta value then show date\n"
   ]
  },
  {
   "cell_type": "code",
   "execution_count": 143,
   "id": "2c2b988a",
   "metadata": {},
   "outputs": [
    {
     "name": "stdout",
     "output_type": "stream",
     "text": [
      "1 day, 2:03:04 before 2001-02-03 04:05:06 is 2001-02-02 02:02:02\n"
     ]
    }
   ],
   "source": [
    "# Manually create datetime objects\n",
    "dt = datetime(2001, 2, 3, 4, 5, 6)\n",
    "# Manually create a timedelta object\n",
    "delta = timedelta(days=1, hours=2, minutes=3, seconds=4)\n",
    "# Subtraction\n",
    "diff = dt - delta\n",
    "\n",
    "print(f'{delta} before {dt} is {diff}')"
   ]
  },
  {
   "cell_type": "markdown",
   "id": "23b8ac5b",
   "metadata": {},
   "source": [
    "# Create custom program \n",
    "* create own database\n",
    "* crate login system with your own database"
   ]
  },
  {
   "cell_type": "code",
   "execution_count": 144,
   "id": "d59f9997",
   "metadata": {},
   "outputs": [],
   "source": [
    "#      username, password\n",
    "db = [['qasim','as123'],\n",
    "     ['asif','af123'],\n",
    "     ['hamza','hz123'],\n",
    "     ['iqbal','iq123']]\n",
    "\n"
   ]
  },
  {
   "cell_type": "markdown",
   "id": "85140152",
   "metadata": {},
   "source": [
    "# make signup function"
   ]
  },
  {
   "cell_type": "code",
   "execution_count": 154,
   "id": "d9d1154d",
   "metadata": {},
   "outputs": [
    {
     "name": "stdout",
     "output_type": "stream",
     "text": [
      "Userqasim\n",
      "Passwordaaa\n",
      "qasim already axist!\n",
      "Userqasim077\n",
      "Password1111\n",
      "Usere\n",
      "Passworde\n"
     ]
    }
   ],
   "source": [
    "def signup(user,password):\n",
    "    return [user,password]\n",
    "\n",
    "signup('qasim077','123')\n",
    "\n",
    "while True:\n",
    "    u = input(\"User\")\n",
    "    p = input('Password')\n",
    "    if u == 'e' or p == 'e':\n",
    "        break\n",
    "    if u not in [i[0] for i in db]:\n",
    "        db.append(signup(u,p))\n",
    "    else:\n",
    "        print(f\"{u} already axist!\")"
   ]
  },
  {
   "cell_type": "code",
   "execution_count": 155,
   "id": "757eee27",
   "metadata": {},
   "outputs": [
    {
     "data": {
      "text/plain": [
       "[['qasim', 'as123'],\n",
       " ['asif', 'af123'],\n",
       " ['hamza', 'hz123'],\n",
       " ['iqbal', 'iq123'],\n",
       " ['aa1', 'aap1'],\n",
       " ['bb1', 'bbp1'],\n",
       " ['qasim077', '1111']]"
      ]
     },
     "execution_count": 155,
     "metadata": {},
     "output_type": "execute_result"
    }
   ],
   "source": [
    "db"
   ]
  },
  {
   "cell_type": "code",
   "execution_count": 153,
   "id": "9c523fc7",
   "metadata": {},
   "outputs": [
    {
     "data": {
      "text/plain": [
       "['qasim', 'asif', 'hamza', 'iqbal', 'aa1', 'bb1']"
      ]
     },
     "execution_count": 153,
     "metadata": {},
     "output_type": "execute_result"
    }
   ],
   "source": [
    "[i[0] for i in db]"
   ]
  },
  {
   "cell_type": "code",
   "execution_count": null,
   "id": "1240113f",
   "metadata": {},
   "outputs": [],
   "source": []
  }
 ],
 "metadata": {
  "kernelspec": {
   "display_name": "Python 3",
   "language": "python",
   "name": "python3"
  },
  "language_info": {
   "codemirror_mode": {
    "name": "ipython",
    "version": 3
   },
   "file_extension": ".py",
   "mimetype": "text/x-python",
   "name": "python",
   "nbconvert_exporter": "python",
   "pygments_lexer": "ipython3",
   "version": "3.7.15"
  }
 },
 "nbformat": 4,
 "nbformat_minor": 5
}
