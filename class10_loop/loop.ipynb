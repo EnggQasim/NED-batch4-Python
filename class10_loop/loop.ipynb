{
 "cells": [
  {
   "cell_type": "markdown",
   "id": "7497b932",
   "metadata": {},
   "source": [
    "# Loop\n",
    "* counter->condition->increment/decrement\n",
    "\n",
    "* while\n",
    "* for\n",
    "* loop controls\n",
    "    * break\n",
    "    * pass\n",
    "    * continue\n",
    "    \n"
   ]
  },
  {
   "cell_type": "markdown",
   "id": "7384518d",
   "metadata": {},
   "source": [
    "# Infinit Loop"
   ]
  },
  {
   "cell_type": "raw",
   "id": "5e4539f7",
   "metadata": {},
   "source": [
    "while True:\n",
    "    print(\"Pakistan\")"
   ]
  },
  {
   "cell_type": "code",
   "execution_count": 5,
   "id": "a878c9a2",
   "metadata": {},
   "outputs": [],
   "source": [
    "while False:\n",
    "    print(\"Pakistan\")"
   ]
  },
  {
   "cell_type": "code",
   "execution_count": 6,
   "id": "47f2cd1d",
   "metadata": {},
   "outputs": [
    {
     "name": "stdout",
     "output_type": "stream",
     "text": [
      "0\n",
      "1\n",
      "2\n",
      "3\n",
      "4\n",
      "5\n",
      "6\n",
      "7\n",
      "8\n",
      "9\n",
      "10\n"
     ]
    }
   ],
   "source": [
    "counter = 0# counter\n",
    "\n",
    "while counter < 11:# logic\n",
    "    print(counter)\n",
    "    counter += 1 # increment"
   ]
  },
  {
   "cell_type": "code",
   "execution_count": 7,
   "id": "1d09f889",
   "metadata": {},
   "outputs": [
    {
     "name": "stdout",
     "output_type": "stream",
     "text": [
      "100\n",
      "99\n",
      "98\n",
      "97\n",
      "96\n",
      "95\n",
      "94\n",
      "93\n",
      "92\n",
      "91\n",
      "90\n",
      "89\n",
      "88\n",
      "87\n",
      "86\n",
      "85\n",
      "84\n",
      "83\n",
      "82\n",
      "81\n",
      "80\n",
      "79\n",
      "78\n",
      "77\n",
      "76\n",
      "75\n",
      "74\n",
      "73\n",
      "72\n",
      "71\n",
      "70\n",
      "69\n",
      "68\n",
      "67\n",
      "66\n",
      "65\n",
      "64\n",
      "63\n",
      "62\n",
      "61\n",
      "60\n",
      "59\n",
      "58\n",
      "57\n",
      "56\n",
      "55\n",
      "54\n",
      "53\n",
      "52\n",
      "51\n"
     ]
    }
   ],
   "source": [
    "c = 100\n",
    "while c > 50:\n",
    "    print(c)\n",
    "    c -= 1"
   ]
  },
  {
   "cell_type": "code",
   "execution_count": 8,
   "id": "1083019a",
   "metadata": {},
   "outputs": [
    {
     "name": "stdout",
     "output_type": "stream",
     "text": [
      "2023\n",
      "2022\n",
      "2021\n",
      "2020\n",
      "2019\n",
      "2018\n",
      "2017\n",
      "2016\n",
      "2015\n",
      "2014\n",
      "2013\n",
      "2012\n",
      "2011\n",
      "2010\n",
      "2009\n",
      "2008\n",
      "2007\n",
      "2006\n",
      "2005\n",
      "2004\n",
      "2003\n",
      "2002\n",
      "2001\n"
     ]
    }
   ],
   "source": [
    "c = 2023\n",
    "while c > 2000:\n",
    "    print(c)\n",
    "    c -= 1"
   ]
  },
  {
   "cell_type": "code",
   "execution_count": 9,
   "id": "a9ffedb2",
   "metadata": {},
   "outputs": [
    {
     "name": "stdout",
     "output_type": "stream",
     "text": [
      "Qasim\n",
      "Ali\n",
      "Hamzaa\n",
      "Junaid\n",
      "Hammad\n"
     ]
    }
   ],
   "source": [
    "#           0     1       2        3        4\n",
    "names = [\"Qasim\",\"Ali\",\"Hamzaa\",\"Junaid\",\"Hammad\"]\n",
    "\n",
    "i = 0\n",
    "while i < 5:\n",
    "    print(names[i])\n",
    "    i += 1"
   ]
  },
  {
   "cell_type": "code",
   "execution_count": 10,
   "id": "9219d240",
   "metadata": {},
   "outputs": [
    {
     "name": "stdout",
     "output_type": "stream",
     "text": [
      "Qasim\n",
      "Ali\n",
      "Hamzaa\n",
      "Junaid\n",
      "Hammad\n"
     ]
    }
   ],
   "source": [
    "#           0     1       2        3        4\n",
    "names = [\"Qasim\",\"Ali\",\"Hamzaa\",\"Junaid\",\"Hammad\",\"Iqbal\"]\n",
    "\n",
    "i = 0\n",
    "while i < 5:\n",
    "    print(names[i])\n",
    "    i += 1"
   ]
  },
  {
   "cell_type": "code",
   "execution_count": 15,
   "id": "3c68df34",
   "metadata": {},
   "outputs": [
    {
     "name": "stdout",
     "output_type": "stream",
     "text": [
      "Qasim\n",
      "Ali\n",
      "Hamzaa\n",
      "Junaid\n",
      "Hammad\n",
      "Iqbal\n"
     ]
    }
   ],
   "source": [
    "#           0     1       2        3        4\n",
    "names = [\"Qasim\",\"Ali\",\"Hamzaa\",\"Junaid\",\"Hammad\",\"Iqbal\"]\n",
    "\n",
    "i = 0 # start index variable value\n",
    "while i < len(names): # logic test on variable True/False\n",
    "    print(names[i])\n",
    "    i += 1 # increment/dercrement"
   ]
  },
  {
   "cell_type": "code",
   "execution_count": 14,
   "id": "4690f14a",
   "metadata": {},
   "outputs": [
    {
     "data": {
      "text/plain": [
       "6"
      ]
     },
     "execution_count": 14,
     "metadata": {},
     "output_type": "execute_result"
    }
   ],
   "source": [
    "len(names)"
   ]
  },
  {
   "cell_type": "markdown",
   "id": "f2d4582a",
   "metadata": {},
   "source": [
    "# for loop"
   ]
  },
  {
   "cell_type": "code",
   "execution_count": 16,
   "id": "5ff60673",
   "metadata": {},
   "outputs": [
    {
     "name": "stdout",
     "output_type": "stream",
     "text": [
      "Qasim\n",
      "Ali\n",
      "Hamzaa\n",
      "Junaid\n",
      "Hammad\n",
      "Iqbal\n"
     ]
    }
   ],
   "source": [
    "#           0     1       2        3        4\n",
    "names = [\"Qasim\",\"Ali\",\"Hamzaa\",\"Junaid\",\"Hammad\",\"Iqbal\"]\n",
    "\n",
    "for name in names:\n",
    "    print(name)"
   ]
  },
  {
   "cell_type": "code",
   "execution_count": 17,
   "id": "5e307278",
   "metadata": {},
   "outputs": [
    {
     "name": "stdout",
     "output_type": "stream",
     "text": [
      "Qasim\n",
      "Ali\n",
      "Hamzaa\n",
      "Junaid\n",
      "Hammad\n",
      "Iqbal\n"
     ]
    }
   ],
   "source": [
    "#           0     1       2        3        4\n",
    "names = [\"Qasim\",\"Ali\",\"Hamzaa\",\"Junaid\",\"Hammad\",\"Iqbal\"]\n",
    "\n",
    "for a in names:\n",
    "    print(a)"
   ]
  },
  {
   "cell_type": "code",
   "execution_count": 19,
   "id": "c1e45ce5",
   "metadata": {},
   "outputs": [
    {
     "data": {
      "text/plain": [
       "[(0, 'Qasim'),\n",
       " (1, 'Ali'),\n",
       " (2, 'Hamzaa'),\n",
       " (3, 'Junaid'),\n",
       " (4, 'Hammad'),\n",
       " (5, 'Iqbal')]"
      ]
     },
     "execution_count": 19,
     "metadata": {},
     "output_type": "execute_result"
    }
   ],
   "source": [
    "names = [\"Qasim\",\"Ali\",\"Hamzaa\",\"Junaid\",\"Hammad\",\"Iqbal\"]\n",
    "list(enumerate(names))"
   ]
  },
  {
   "cell_type": "code",
   "execution_count": 21,
   "id": "effde885",
   "metadata": {},
   "outputs": [
    {
     "name": "stdout",
     "output_type": "stream",
     "text": [
      "0 Qasim\n"
     ]
    }
   ],
   "source": [
    "# unzip\n",
    "idx, name = (0, 'Qasim')\n",
    "print(idx, name)"
   ]
  },
  {
   "cell_type": "code",
   "execution_count": 20,
   "id": "74864b1a",
   "metadata": {},
   "outputs": [
    {
     "name": "stdout",
     "output_type": "stream",
     "text": [
      "Student Roll no: 0 and his/her Name: Qasim\n",
      "Student Roll no: 1 and his/her Name: Ali\n",
      "Student Roll no: 2 and his/her Name: Hamzaa\n",
      "Student Roll no: 3 and his/her Name: Junaid\n",
      "Student Roll no: 4 and his/her Name: Hammad\n",
      "Student Roll no: 5 and his/her Name: Iqbal\n"
     ]
    }
   ],
   "source": [
    "names = [\"Qasim\",\"Ali\",\"Hamzaa\",\"Junaid\",\"Hammad\",\"Iqbal\"]\n",
    "for idx, name in enumerate(names):\n",
    "    print(f\"Student Roll no: {idx} and his/her Name: {name}\")"
   ]
  },
  {
   "cell_type": "code",
   "execution_count": 23,
   "id": "a99f143d",
   "metadata": {},
   "outputs": [
    {
     "data": {
      "text/plain": [
       "['Ali', 'Hammad', 'Hamzaa', 'Iqbal', 'Junaid', 'Qasim']"
      ]
     },
     "execution_count": 23,
     "metadata": {},
     "output_type": "execute_result"
    }
   ],
   "source": [
    "names = [\"Qasim\",\"Ali\",\"Hamzaa\",\"Junaid\",\"Hammad\",\"Iqbal\"]\n",
    "sorted(names)"
   ]
  },
  {
   "cell_type": "code",
   "execution_count": 24,
   "id": "73493085",
   "metadata": {},
   "outputs": [
    {
     "name": "stdout",
     "output_type": "stream",
     "text": [
      "Student Roll no: 0 and his/her Name: Ali\n",
      "Student Roll no: 1 and his/her Name: Hammad\n",
      "Student Roll no: 2 and his/her Name: Hamzaa\n",
      "Student Roll no: 3 and his/her Name: Iqbal\n",
      "Student Roll no: 4 and his/her Name: Junaid\n",
      "Student Roll no: 5 and his/her Name: Qasim\n"
     ]
    }
   ],
   "source": [
    "names = [\"Qasim\",\"Ali\",\"Hamzaa\",\"Junaid\",\"Hammad\",\"Iqbal\"]\n",
    "\n",
    "for idx, name in enumerate(sorted(names)):\n",
    "    print(f\"Student Roll no: {idx} and his/her Name: {name}\")"
   ]
  },
  {
   "cell_type": "code",
   "execution_count": 25,
   "id": "2d07a4b8",
   "metadata": {},
   "outputs": [
    {
     "name": "stdout",
     "output_type": "stream",
     "text": [
      "0\n"
     ]
    }
   ],
   "source": [
    "i = 0\n",
    "while i < 1000000:\n",
    "    print(i)\n",
    "    i +=1\n",
    "    break"
   ]
  },
  {
   "cell_type": "code",
   "execution_count": 34,
   "id": "dbf25436",
   "metadata": {},
   "outputs": [
    {
     "name": "stdout",
     "output_type": "stream",
     "text": [
      "140\n"
     ]
    }
   ],
   "source": [
    "i = 1\n",
    "\n",
    "while i < 1000000:\n",
    "    if i % 5 == 0 and i % 7 == 0 and i % 20 == 0:\n",
    "        print(i)\n",
    "        break # early stop \n",
    "\n",
    "    i += 1\n",
    "        \n",
    "    "
   ]
  },
  {
   "cell_type": "code",
   "execution_count": 35,
   "id": "e70598ed",
   "metadata": {},
   "outputs": [
    {
     "data": {
      "text/plain": [
       "2"
      ]
     },
     "execution_count": 35,
     "metadata": {},
     "output_type": "execute_result"
    }
   ],
   "source": [
    "i = 7\n",
    "\n",
    "i % 5"
   ]
  },
  {
   "cell_type": "code",
   "execution_count": 36,
   "id": "887a38fc",
   "metadata": {},
   "outputs": [
    {
     "data": {
      "text/plain": [
       "False"
      ]
     },
     "execution_count": 36,
     "metadata": {},
     "output_type": "execute_result"
    }
   ],
   "source": [
    "i = 7\n",
    "\n",
    "i % 5 == 0"
   ]
  },
  {
   "cell_type": "code",
   "execution_count": 37,
   "id": "3b54346c",
   "metadata": {},
   "outputs": [
    {
     "name": "stdout",
     "output_type": "stream",
     "text": [
      "0\n",
      "1\n",
      "2\n",
      "3\n",
      "4\n",
      "5\n",
      "6\n",
      "7\n",
      "8\n",
      "9\n",
      "10\n"
     ]
    }
   ],
   "source": [
    "i = 0\n",
    "while i < 11:\n",
    "    print(i)\n",
    "    i += 1"
   ]
  },
  {
   "cell_type": "code",
   "execution_count": 38,
   "id": "6850d538",
   "metadata": {},
   "outputs": [
    {
     "name": "stdout",
     "output_type": "stream",
     "text": [
      "0\n",
      "1\n",
      "2\n",
      "3\n",
      "4\n",
      "5\n"
     ]
    }
   ],
   "source": [
    "i = 0\n",
    "while i < 11:\n",
    "    print(i)\n",
    "    if i == 5:\n",
    "        break\n",
    "    i += 1"
   ]
  },
  {
   "cell_type": "code",
   "execution_count": 4,
   "id": "72a0da6c",
   "metadata": {},
   "outputs": [
    {
     "name": "stdout",
     "output_type": "stream",
     "text": [
      "0\n",
      "1\n",
      "2\n",
      "3\n",
      "4\n",
      "6\n",
      "7\n",
      "8\n",
      "9\n",
      "10\n",
      "11\n",
      "12\n",
      "13\n",
      "14\n",
      "15\n",
      "16\n",
      "17\n",
      "18\n",
      "19\n"
     ]
    }
   ],
   "source": [
    "for i in range(20):\n",
    "    if i == 5:\n",
    "        continue\n",
    "    print(i)\n",
    "    "
   ]
  },
  {
   "cell_type": "code",
   "execution_count": 5,
   "id": "b1df2e01",
   "metadata": {},
   "outputs": [],
   "source": [
    "for i in range(20):\n",
    "    pass"
   ]
  },
  {
   "cell_type": "code",
   "execution_count": 6,
   "id": "2032a80a",
   "metadata": {},
   "outputs": [
    {
     "ename": "SyntaxError",
     "evalue": "unexpected EOF while parsing (<ipython-input-6-c7f534887078>, line 2)",
     "output_type": "error",
     "traceback": [
      "\u001b[0;36m  File \u001b[0;32m\"<ipython-input-6-c7f534887078>\"\u001b[0;36m, line \u001b[0;32m2\u001b[0m\n\u001b[0;31m    \u001b[0m\n\u001b[0m    ^\u001b[0m\n\u001b[0;31mSyntaxError\u001b[0m\u001b[0;31m:\u001b[0m unexpected EOF while parsing\n"
     ]
    }
   ],
   "source": [
    "if True:\n",
    "    "
   ]
  },
  {
   "cell_type": "code",
   "execution_count": 7,
   "id": "106566b7",
   "metadata": {},
   "outputs": [],
   "source": [
    "if True:\n",
    "    pass"
   ]
  },
  {
   "cell_type": "code",
   "execution_count": 8,
   "id": "5e04c61b",
   "metadata": {},
   "outputs": [
    {
     "name": "stdout",
     "output_type": "stream",
     "text": [
      "1\n",
      "2\n",
      "3\n"
     ]
    }
   ],
   "source": [
    "print(\"1\")\n",
    "print(\"2\")\n",
    "pass\n",
    "print(\"3\")"
   ]
  },
  {
   "cell_type": "code",
   "execution_count": 10,
   "id": "80b09ef0",
   "metadata": {},
   "outputs": [
    {
     "name": "stdout",
     "output_type": "stream",
     "text": [
      "Enter any Entery. type 'exit' to stop!Ali\n",
      "Enter any Entery. type 'exit' to stop!Qasim\n",
      "Enter any Entery. type 'exit' to stop!Hamza\n",
      "Enter any Entery. type 'exit' to stop!Kamran\n",
      "Enter any Entery. type 'exit' to stop!Hammad\n",
      "Enter any Entery. type 'exit' to stop!Noman\n",
      "Enter any Entery. type 'exit' to stop!exit\n"
     ]
    }
   ],
   "source": [
    "names = []\n",
    "\n",
    "while True:\n",
    "    nm = input(\"Enter any Entery. type 'exit' to stop!\")\n",
    "    if nm == \"exit\":\n",
    "        break\n",
    "    names.append(nm)"
   ]
  },
  {
   "cell_type": "code",
   "execution_count": 11,
   "id": "b0fb392a",
   "metadata": {},
   "outputs": [
    {
     "data": {
      "text/plain": [
       "['Ali', 'Qasim', 'Hamza', 'Kamran', 'Hammad', 'Noman']"
      ]
     },
     "execution_count": 11,
     "metadata": {},
     "output_type": "execute_result"
    }
   ],
   "source": [
    "names"
   ]
  },
  {
   "cell_type": "code",
   "execution_count": 13,
   "id": "6527aa28",
   "metadata": {},
   "outputs": [
    {
     "name": "stdout",
     "output_type": "stream",
     "text": [
      "\n",
      "    NED Student Card\n",
      "    Name: Qasim \t Father's Name Aslam\n",
      "    Age: 30 \t Education: MSDS \n",
      "    \n",
      "\n",
      "    NED Student Card\n",
      "    Name: Hammad \t Father's Name Ali\n",
      "    Age: 27 \t Education: BSCS \n",
      "    \n",
      "\n",
      "    NED Student Card\n",
      "    Name: Asif \t Father's Name Abid\n",
      "    Age: 23 \t Education: I.com \n",
      "    \n"
     ]
    }
   ],
   "source": [
    "#               name    fname  age edu\n",
    "database  = [[\"Qasim\",\"Aslam\",30,\"MSDS\"],\n",
    "            [\"Hammad\",\"Ali\",27,\"BSCS\"],\n",
    "            [\"Asif\",\"Abid\", 23, \"I.com\"]]\n",
    "\n",
    "for row in database:\n",
    "    card = f\"\"\"\n",
    "    NED Student Card\n",
    "    Name: {row[0]} \\t Father's Name {row[1]}\n",
    "    Age: {row[2]} \\t Education: {row[3]} \n",
    "    \"\"\"\n",
    "    print(card)"
   ]
  },
  {
   "cell_type": "code",
   "execution_count": 17,
   "id": "9c20fcbe",
   "metadata": {},
   "outputs": [
    {
     "name": "stdout",
     "output_type": "stream",
     "text": [
      "=======Student Detail========\n",
      "Key name\t\t\t Value: Qasim\n",
      "Key roll\t\t\t Value: 200\n",
      "=======Student Detail========\n",
      "Key name\t\t\t Value: Ali\n",
      "Key age\t\t\t Value: 20\n",
      "=======Student Detail========\n",
      "Key education\t\t\t Value: master\n"
     ]
    }
   ],
   "source": [
    "db  = [{\"name\":\"Qasim\",'roll':200},\n",
    "      {\"name\":\"Ali\",'age':20},\n",
    "      {\"education\":\"master\"}]\n",
    "\n",
    "for row in db:\n",
    "    print('=======Student Detail========')\n",
    "    for k, v in row.items():\n",
    "        print(f\"Key {k}\\t\\t\\t Value: {v}\")"
   ]
  },
  {
   "cell_type": "code",
   "execution_count": 19,
   "id": "ec06d777",
   "metadata": {},
   "outputs": [
    {
     "name": "stdout",
     "output_type": "stream",
     "text": [
      "=======Student 1 Detail========\n",
      "Key name\t\t\t Value: Qasim\n",
      "Key roll\t\t\t Value: 200\n",
      "=======Student 2 Detail========\n",
      "Key name\t\t\t Value: Ali\n",
      "Key age\t\t\t Value: 20\n",
      "=======Student 3 Detail========\n",
      "Key education\t\t\t Value: master\n"
     ]
    }
   ],
   "source": [
    "db  = [{\"name\":\"Qasim\",'roll':200},\n",
    "      {\"name\":\"Ali\",'age':20},\n",
    "      {\"education\":\"master\"}]\n",
    "\n",
    "for rid, row in enumerate(db):\n",
    "    print(f'=======Student {rid+1} Detail========')\n",
    "    for k, v in row.items():\n",
    "        print(f\"Key {k}\\t\\t\\t Value: {v}\")"
   ]
  },
  {
   "cell_type": "code",
   "execution_count": 21,
   "id": "7c2c930a",
   "metadata": {},
   "outputs": [
    {
     "name": "stdout",
     "output_type": "stream",
     "text": [
      "Key,Valuename,Qasim\n",
      "name Qasim\n"
     ]
    }
   ],
   "source": [
    "k, v = input(\"Key,Value\").split(\",\")\n",
    "print(k, v)"
   ]
  },
  {
   "cell_type": "code",
   "execution_count": 23,
   "id": "ccc29b91",
   "metadata": {},
   "outputs": [
    {
     "name": "stdout",
     "output_type": "stream",
     "text": [
      "Key,Valueid,1\n",
      "Key,Valuename,qasim\n",
      "Key,Valueeducation,Master\n",
      "Key,Valueexit,a\n"
     ]
    }
   ],
   "source": [
    "db = {}\n",
    "while True:\n",
    "    k,v = input(\"Key,Value\").split(\",\")\n",
    "    db[k] = v\n",
    "    if k == 'exit' or v == 'exit':\n",
    "        break"
   ]
  },
  {
   "cell_type": "code",
   "execution_count": 24,
   "id": "d72070a3",
   "metadata": {},
   "outputs": [
    {
     "data": {
      "text/plain": [
       "{'id': '1', 'name': 'qasim', 'education': 'Master', 'exit': 'a'}"
      ]
     },
     "execution_count": 24,
     "metadata": {},
     "output_type": "execute_result"
    }
   ],
   "source": [
    "db"
   ]
  },
  {
   "cell_type": "code",
   "execution_count": null,
   "id": "0dcb063a",
   "metadata": {},
   "outputs": [],
   "source": []
  }
 ],
 "metadata": {
  "kernelspec": {
   "display_name": "Python 3",
   "language": "python",
   "name": "python3"
  },
  "language_info": {
   "codemirror_mode": {
    "name": "ipython",
    "version": 3
   },
   "file_extension": ".py",
   "mimetype": "text/x-python",
   "name": "python",
   "nbconvert_exporter": "python",
   "pygments_lexer": "ipython3",
   "version": "3.7.15"
  }
 },
 "nbformat": 4,
 "nbformat_minor": 5
}
