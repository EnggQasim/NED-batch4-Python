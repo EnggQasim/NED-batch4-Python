{
 "cells": [
  {
   "cell_type": "markdown",
   "id": "e467e0ba",
   "metadata": {},
   "source": [
    "# Pakage\n",
    "* folder\n",
    "    * filename.py\n",
    "    \n",
    "`import folder as ned`\n"
   ]
  },
  {
   "cell_type": "code",
   "execution_count": 1,
   "id": "5c075f60",
   "metadata": {},
   "outputs": [],
   "source": [
    "from ned_package import ned"
   ]
  },
  {
   "cell_type": "code",
   "execution_count": 2,
   "id": "85a9f1cd",
   "metadata": {},
   "outputs": [
    {
     "data": {
      "text/plain": [
       "'Hello NED!'"
      ]
     },
     "execution_count": 2,
     "metadata": {},
     "output_type": "execute_result"
    }
   ],
   "source": [
    "ned.abc()"
   ]
  },
  {
   "cell_type": "code",
   "execution_count": 3,
   "id": "f6add718",
   "metadata": {},
   "outputs": [
    {
     "data": {
      "text/plain": [
       "'Pakista zinda!'"
      ]
     },
     "execution_count": 3,
     "metadata": {},
     "output_type": "execute_result"
    }
   ],
   "source": [
    "ned.xyz()"
   ]
  },
  {
   "cell_type": "code",
   "execution_count": 4,
   "id": "6d4814db",
   "metadata": {},
   "outputs": [],
   "source": [
    "from ned_package import ned, uit, piaic"
   ]
  },
  {
   "cell_type": "code",
   "execution_count": 5,
   "id": "1ef581e7",
   "metadata": {},
   "outputs": [
    {
     "data": {
      "text/plain": [
       "'Hello PIAIC!'"
      ]
     },
     "execution_count": 5,
     "metadata": {},
     "output_type": "execute_result"
    }
   ],
   "source": [
    "piaic.abc1()"
   ]
  },
  {
   "cell_type": "code",
   "execution_count": 7,
   "id": "46984e40",
   "metadata": {},
   "outputs": [],
   "source": [
    "import piaic as pc"
   ]
  },
  {
   "cell_type": "code",
   "execution_count": 8,
   "id": "f1dd49c4",
   "metadata": {},
   "outputs": [
    {
     "data": {
      "text/plain": [
       "'Pakista zinda PIAIC!'"
      ]
     },
     "execution_count": 8,
     "metadata": {},
     "output_type": "execute_result"
    }
   ],
   "source": [
    "pc.xyz1()"
   ]
  },
  {
   "cell_type": "code",
   "execution_count": 9,
   "id": "75838b27",
   "metadata": {},
   "outputs": [],
   "source": [
    "import ned_package as nd"
   ]
  },
  {
   "cell_type": "code",
   "execution_count": 10,
   "id": "89163013",
   "metadata": {},
   "outputs": [
    {
     "data": {
      "text/plain": [
       "'Hello NED!'"
      ]
     },
     "execution_count": 10,
     "metadata": {},
     "output_type": "execute_result"
    }
   ],
   "source": [
    "nd.ned.abc()"
   ]
  },
  {
   "cell_type": "code",
   "execution_count": null,
   "id": "a89ff851",
   "metadata": {},
   "outputs": [],
   "source": []
  }
 ],
 "metadata": {
  "kernelspec": {
   "display_name": "Python 3",
   "language": "python",
   "name": "python3"
  },
  "language_info": {
   "codemirror_mode": {
    "name": "ipython",
    "version": 3
   },
   "file_extension": ".py",
   "mimetype": "text/x-python",
   "name": "python",
   "nbconvert_exporter": "python",
   "pygments_lexer": "ipython3",
   "version": "3.7.15"
  }
 },
 "nbformat": 4,
 "nbformat_minor": 5
}
