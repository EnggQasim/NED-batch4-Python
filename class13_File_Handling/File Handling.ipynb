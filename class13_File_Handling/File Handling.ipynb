{
 "cells": [
  {
   "cell_type": "code",
   "execution_count": 32,
   "metadata": {},
   "outputs": [
    {
     "ename": "NameError",
     "evalue": "name 'A' is not defined",
     "output_type": "error",
     "traceback": [
      "\u001b[0;31m-----------------------------------------------------------------------\u001b[0m",
      "\u001b[0;31mNameError\u001b[0m                             Traceback (most recent call last)",
      "\u001b[0;32m<ipython-input-32-c5d4bfab49c7>\u001b[0m in \u001b[0;36m<module>\u001b[0;34m\u001b[0m\n\u001b[1;32m      1\u001b[0m \u001b[0;34m[\u001b[0m\u001b[0;36m1\u001b[0m\u001b[0;34m,\u001b[0m\u001b[0;36m2\u001b[0m\u001b[0;34m,\u001b[0m\u001b[0;36m3\u001b[0m\u001b[0;34m]\u001b[0m\u001b[0;34m\u001b[0m\u001b[0;34m\u001b[0m\u001b[0m\n\u001b[0;32m----> 2\u001b[0;31m \u001b[0;34m[\u001b[0m\u001b[0mA\u001b[0m\u001b[0;34m,\u001b[0m\u001b[0mB\u001b[0m\u001b[0;34m,\u001b[0m\u001b[0mC\u001b[0m\u001b[0;34m]\u001b[0m\u001b[0;34m\u001b[0m\u001b[0;34m\u001b[0m\u001b[0m\n\u001b[0m\u001b[1;32m      3\u001b[0m \u001b[0;34m[\u001b[0m\u001b[0mC\u001b[0m\u001b[0;34m,\u001b[0m\u001b[0mB\u001b[0m\u001b[0;34m,\u001b[0m\u001b[0mA\u001b[0m\u001b[0;34m,\u001b[0m \u001b[0;36m3\u001b[0m\u001b[0;34m,\u001b[0m\u001b[0;36m2\u001b[0m\u001b[0;34m,\u001b[0m\u001b[0;36m1\u001b[0m\u001b[0;34m]\u001b[0m\u001b[0;34m\u001b[0m\u001b[0;34m\u001b[0m\u001b[0m\n",
      "\u001b[0;31mNameError\u001b[0m: name 'A' is not defined"
     ]
    }
   ],
   "source": [
    "[1,2,3]\n",
    "[A,B,C]\n",
    "[C,B,A, 3,2,1]"
   ]
  },
  {
   "cell_type": "code",
   "execution_count": 33,
   "metadata": {},
   "outputs": [
    {
     "data": {
      "text/plain": [
       "<_io.TextIOWrapper name='abc.txt' mode='r' encoding='UTF-8'>"
      ]
     },
     "metadata": {},
     "output_type": "display_data"
    },
    {
     "data": {
      "text/plain": [
       "['[1,2,3]\\n', '[A,B,C]\\n', '[C,B,A, 3,2,1]\\n']"
      ]
     },
     "metadata": {},
     "output_type": "display_data"
    }
   ],
   "source": [
    "file = open(\"abc.txt\") # file open connectivity/relative path\n",
    "display(file) # apply\n",
    "display(file.readlines())# apply some function on file variable\n",
    "file.close() # connection close"
   ]
  },
  {
   "cell_type": "code",
   "execution_count": 34,
   "metadata": {},
   "outputs": [
    {
     "data": {
      "text/plain": [
       "<_io.TextIOWrapper name='/home/mqasim/Data/NED/2023/Python Batch4/class13_File_Handling/abc.txt' mode='r' encoding='UTF-8'>"
      ]
     },
     "metadata": {},
     "output_type": "display_data"
    },
    {
     "data": {
      "text/plain": [
       "['[1,2,3]\\n', '[A,B,C]\\n', '[C,B,A, 3,2,1]\\n']"
      ]
     },
     "metadata": {},
     "output_type": "display_data"
    }
   ],
   "source": [
    "file = open(\"/home/mqasim/Data/NED/2023/Python Batch4/class13_File_Handling/abc.txt\") # file open connectivity/absolute path\n",
    "display(file) # apply\n",
    "display(file.readlines())# apply some function on file variable\n",
    "file.close() # connection close"
   ]
  },
  {
   "cell_type": "code",
   "execution_count": 35,
   "metadata": {},
   "outputs": [
    {
     "data": {
      "text/plain": [
       "['[1,2,3]\\n', '[A,B,C]\\n', '[C,B,A, 3,2,1]\\n']"
      ]
     },
     "metadata": {},
     "output_type": "display_data"
    }
   ],
   "source": [
    "with open(\"abc.txt\") as f:\n",
    "    display(f.readlines())\n",
    "    \n"
   ]
  },
  {
   "cell_type": "code",
   "execution_count": 36,
   "metadata": {},
   "outputs": [
    {
     "ename": "ValueError",
     "evalue": "I/O operation on closed file.",
     "output_type": "error",
     "traceback": [
      "\u001b[0;31m-----------------------------------------------------------------------\u001b[0m",
      "\u001b[0;31mValueError\u001b[0m                            Traceback (most recent call last)",
      "\u001b[0;32m<ipython-input-36-055d0c37aeda>\u001b[0m in \u001b[0;36m<module>\u001b[0;34m\u001b[0m\n\u001b[0;32m----> 1\u001b[0;31m \u001b[0mf\u001b[0m\u001b[0;34m.\u001b[0m\u001b[0mreadlines\u001b[0m\u001b[0;34m(\u001b[0m\u001b[0;34m)\u001b[0m\u001b[0;34m\u001b[0m\u001b[0;34m\u001b[0m\u001b[0m\n\u001b[0m",
      "\u001b[0;31mValueError\u001b[0m: I/O operation on closed file."
     ]
    }
   ],
   "source": [
    "f.readlines()"
   ]
  },
  {
   "cell_type": "code",
   "execution_count": 37,
   "metadata": {},
   "outputs": [
    {
     "ename": "ValueError",
     "evalue": "I/O operation on closed file.",
     "output_type": "error",
     "traceback": [
      "\u001b[0;31m-----------------------------------------------------------------------\u001b[0m",
      "\u001b[0;31mValueError\u001b[0m                            Traceback (most recent call last)",
      "\u001b[0;32m<ipython-input-37-5d3c54c9c0d3>\u001b[0m in \u001b[0;36m<module>\u001b[0;34m\u001b[0m\n\u001b[0;32m----> 1\u001b[0;31m \u001b[0mfile\u001b[0m\u001b[0;34m.\u001b[0m\u001b[0mreadlines\u001b[0m\u001b[0;34m(\u001b[0m\u001b[0;34m)\u001b[0m\u001b[0;34m\u001b[0m\u001b[0;34m\u001b[0m\u001b[0m\n\u001b[0m",
      "\u001b[0;31mValueError\u001b[0m: I/O operation on closed file."
     ]
    }
   ],
   "source": [
    "file.readlines()"
   ]
  },
  {
   "cell_type": "code",
   "execution_count": 38,
   "metadata": {},
   "outputs": [
    {
     "name": "stdout",
     "output_type": "stream",
     "text": [
      "A ['[C,B,A, 3,2,1]\\n', '[A,B,C]\\n', '[1,2,3]\\n']\n",
      "B ['C', 'B', 'A']\n",
      "C ['[C,B,A, 3,2,1]\\n', '[A,B,C]\\n', '[1,2,3]\\n', 'C', 'B', 'A']\n",
      "D [C,B,A, 3,2,1]\n",
      " [A,B,C]\n",
      " [1,2,3]\n",
      " C B A\n",
      "after saved the file now we can read file\n",
      "['[1,2,3]\\n', '[A,B,C]\\n', '[C,B,A, 3,2,1]\\n']\n"
     ]
    }
   ],
   "source": [
    "with open(\"abc.txt\", 'r+') as f:\n",
    "    a = list(reversed(f.readlines()))\n",
    "    print(\"A\",a)\n",
    "    b = list(reversed(['A',\"B\",\"C\"]))\n",
    "    print(\"B\",b)\n",
    "    c = a + b\n",
    "    print(\"C\",c)\n",
    "    d = \" \".join(c)\n",
    "    print(\"D\",d)\n",
    "    f.seek(0) # set cursor index postion\n",
    "    f.write(d)# write here\n",
    "    print(\"after saved the file now we can read file\")\n",
    "    print(f.readlines())"
   ]
  },
  {
   "cell_type": "code",
   "execution_count": 39,
   "metadata": {},
   "outputs": [
    {
     "data": {
      "text/plain": [
       "'[C,B,A, 3,2,1]\\n [A,B,C]\\n [1,2,3]\\n C B A'"
      ]
     },
     "execution_count": 39,
     "metadata": {},
     "output_type": "execute_result"
    }
   ],
   "source": [
    "d"
   ]
  },
  {
   "cell_type": "code",
   "execution_count": 40,
   "metadata": {},
   "outputs": [
    {
     "name": "stdout",
     "output_type": "stream",
     "text": [
      "['1', 'A', 'D']\n",
      "1====A====D\n"
     ]
    }
   ],
   "source": [
    "a = ['1',\"A\",\"D\"]\n",
    "print(a)\n",
    "print(\"====\".join(a))"
   ]
  },
  {
   "cell_type": "code",
   "execution_count": 41,
   "metadata": {},
   "outputs": [
    {
     "name": "stdout",
     "output_type": "stream",
     "text": [
      "A [' C B A', ' [1,2,3]\\n', ' [A,B,C]\\n', '[C,B,A, 3,2,1]\\n', '[C,B,A, 3,2,1]\\n', '[A,B,C]\\n', '[1,2,3]\\n']\n",
      "B ['C', 'B', 'A']\n",
      "C [' C B A', ' [1,2,3]\\n', ' [A,B,C]\\n', '[C,B,A, 3,2,1]\\n', '[C,B,A, 3,2,1]\\n', '[A,B,C]\\n', '[1,2,3]\\n', 'C', 'B', 'A']\n",
      "D  C B A  [1,2,3]\n",
      "  [A,B,C]\n",
      " [C,B,A, 3,2,1]\n",
      " [C,B,A, 3,2,1]\n",
      " [A,B,C]\n",
      " [1,2,3]\n",
      " C B A\n"
     ]
    },
    {
     "ename": "UnsupportedOperation",
     "evalue": "not writable",
     "output_type": "error",
     "traceback": [
      "\u001b[0;31m-----------------------------------------------------------------------\u001b[0m",
      "\u001b[0;31mUnsupportedOperation\u001b[0m                  Traceback (most recent call last)",
      "\u001b[0;32m<ipython-input-41-4f9bb1765492>\u001b[0m in \u001b[0;36m<module>\u001b[0;34m\u001b[0m\n\u001b[1;32m      9\u001b[0m     \u001b[0mprint\u001b[0m\u001b[0;34m(\u001b[0m\u001b[0;34m\"D\"\u001b[0m\u001b[0;34m,\u001b[0m\u001b[0md\u001b[0m\u001b[0;34m)\u001b[0m\u001b[0;34m\u001b[0m\u001b[0;34m\u001b[0m\u001b[0m\n\u001b[1;32m     10\u001b[0m     \u001b[0mf\u001b[0m\u001b[0;34m.\u001b[0m\u001b[0mseek\u001b[0m\u001b[0;34m(\u001b[0m\u001b[0;36m0\u001b[0m\u001b[0;34m)\u001b[0m \u001b[0;31m# set cursor index postion\u001b[0m\u001b[0;34m\u001b[0m\u001b[0;34m\u001b[0m\u001b[0m\n\u001b[0;32m---> 11\u001b[0;31m     \u001b[0mf\u001b[0m\u001b[0;34m.\u001b[0m\u001b[0mwrite\u001b[0m\u001b[0;34m(\u001b[0m\u001b[0md\u001b[0m\u001b[0;34m)\u001b[0m\u001b[0;31m# write here\u001b[0m\u001b[0;34m\u001b[0m\u001b[0;34m\u001b[0m\u001b[0m\n\u001b[0m",
      "\u001b[0;31mUnsupportedOperation\u001b[0m: not writable"
     ]
    }
   ],
   "source": [
    "with open(\"abc.txt\", 'r') as f:\n",
    "    a = list(reversed(f.readlines()))\n",
    "    print(\"A\",a)\n",
    "    b = list(reversed(['A',\"B\",\"C\"]))\n",
    "    print(\"B\",b)\n",
    "    c = a + b\n",
    "    print(\"C\",c)\n",
    "    d = \" \".join(c)\n",
    "    print(\"D\",d)\n",
    "    f.seek(0) # set cursor index postion\n",
    "    f.write(d)# write here"
   ]
  },
  {
   "cell_type": "raw",
   "metadata": {},
   "source": [
    "                  | r   r+   w   w+   a   a+\n",
    "------------------|--------------------------\n",
    "read              | +   +        +        +\n",
    "write             |     +    +   +    +   +\n",
    "write after seek  |     +    +   +\n",
    "create            |          +   +    +   +\n",
    "truncate          |          +   +\n",
    "position at start | +   +    +   +\n",
    "position at end   |                   +   "
   ]
  },
  {
   "cell_type": "code",
   "execution_count": 42,
   "metadata": {},
   "outputs": [
    {
     "data": {
      "text/plain": [
       "<_io.TextIOWrapper name='abc.txt' mode='r' encoding='UTF-8'>"
      ]
     },
     "execution_count": 42,
     "metadata": {},
     "output_type": "execute_result"
    }
   ],
   "source": [
    "open(\"abc.txt\")"
   ]
  },
  {
   "cell_type": "code",
   "execution_count": 43,
   "metadata": {},
   "outputs": [
    {
     "data": {
      "text/plain": [
       "['[1,2,3]\\n',\n",
       " '[A,B,C]\\n',\n",
       " '[C,B,A, 3,2,1]\\n',\n",
       " '[C,B,A, 3,2,1]\\n',\n",
       " ' [A,B,C]\\n',\n",
       " ' [1,2,3]\\n',\n",
       " ' C B A']"
      ]
     },
     "execution_count": 43,
     "metadata": {},
     "output_type": "execute_result"
    }
   ],
   "source": [
    "list(open(\"abc.txt\"))"
   ]
  },
  {
   "cell_type": "code",
   "execution_count": 45,
   "metadata": {},
   "outputs": [
    {
     "name": "stdout",
     "output_type": "stream",
     "text": [
      "['[1,2,3]\\n', '[A,B,C]\\n', '[C,B,A, 3,2,1]\\n', '[C,B,A, 3,2,1]\\n', ' [A,B,C]\\n', ' [1,2,3]\\n', ' C B A']\n"
     ]
    }
   ],
   "source": [
    "d = open(\"abc.txt\")# glass uthao\n",
    "print(list(d))# pani piyo\n",
    "d.close()# glass wapis rakho"
   ]
  },
  {
   "cell_type": "code",
   "execution_count": 46,
   "metadata": {
    "scrolled": true
   },
   "outputs": [
    {
     "name": "stdout",
     "output_type": "stream",
     "text": [
      "['[1,2,3]\\n', '[A,B,C]\\n', '[C,B,A, 3,2,1]\\n', '[C,B,A, 3,2,1]\\n', ' [A,B,C]\\n', ' [1,2,3]\\n', ' C B A']\n"
     ]
    }
   ],
   "source": [
    "d = open(\"abc.txt\")# glass uthao\n",
    "print(list(d))# pani piyo\n"
   ]
  },
  {
   "cell_type": "code",
   "execution_count": 47,
   "metadata": {},
   "outputs": [
    {
     "name": "stdout",
     "output_type": "stream",
     "text": [
      "<class 'str'>\n",
      "[1,2,3]\n",
      "[A,B,C]\n",
      "[C,B,A, 3,2,1]\n",
      "[C,B,A, 3,2,1]\n",
      " [A,B,C]\n",
      " [1,2,3]\n",
      " C B A\n",
      "Hello World\n"
     ]
    }
   ],
   "source": [
    "# with open(file) as <variable>\n",
    "with open(\"abc.txt\") as file:\n",
    "    content = file.read()\n",
    "    print(type(content))\n",
    "    print(content)\n",
    "\n",
    "print(\"Hello World\")"
   ]
  },
  {
   "cell_type": "code",
   "execution_count": 48,
   "metadata": {},
   "outputs": [
    {
     "name": "stdout",
     "output_type": "stream",
     "text": [
      "<class 'str'>\n",
      "[1,2,3]\n",
      "\n"
     ]
    }
   ],
   "source": [
    "# with open(file) as <variable>\n",
    "with open(\"abc.txt\") as file:\n",
    "    content = file.readline()# read first line\n",
    "    print(type(content))\n",
    "    print(content)"
   ]
  },
  {
   "cell_type": "code",
   "execution_count": 49,
   "metadata": {},
   "outputs": [
    {
     "name": "stdout",
     "output_type": "stream",
     "text": [
      "<class 'list'>\n",
      "['[1,2,3]\\n', '[A,B,C]\\n', '[C,B,A, 3,2,1]\\n', '[C,B,A, 3,2,1]\\n', ' [A,B,C]\\n', ' [1,2,3]\\n', ' C B A']\n"
     ]
    }
   ],
   "source": [
    "# with open(file) as <variable>\n",
    "with open(\"abc.txt\") as file:\n",
    "    content = file.readlines()# read all lines make a list\n",
    "    print(type(content))\n",
    "    print(content)"
   ]
  },
  {
   "cell_type": "code",
   "execution_count": 51,
   "metadata": {},
   "outputs": [
    {
     "name": "stdout",
     "output_type": "stream",
     "text": [
      "<class 'list'>\n",
      "['[1,2,3]\\n', '[A,B,C]\\n', '[C,B,A, 3,2,1]\\n']\n"
     ]
    }
   ],
   "source": [
    "# with open(file) as <variable>\n",
    "with open(\"abc.txt\") as file:\n",
    "    content = file.readlines()[:3]\n",
    "    print(type(content))\n",
    "    print(content)"
   ]
  },
  {
   "cell_type": "code",
   "execution_count": 53,
   "metadata": {},
   "outputs": [
    {
     "ename": "UnsupportedOperation",
     "evalue": "not writable",
     "output_type": "error",
     "traceback": [
      "\u001b[0;31m-----------------------------------------------------------------------\u001b[0m",
      "\u001b[0;31mUnsupportedOperation\u001b[0m                  Traceback (most recent call last)",
      "\u001b[0;32m<ipython-input-53-5d4a73779536>\u001b[0m in \u001b[0;36m<module>\u001b[0;34m\u001b[0m\n\u001b[1;32m      2\u001b[0m \u001b[0;32mwith\u001b[0m \u001b[0mopen\u001b[0m\u001b[0;34m(\u001b[0m\u001b[0;34m\"abc1.txt\"\u001b[0m\u001b[0;34m)\u001b[0m \u001b[0;32mas\u001b[0m \u001b[0mfile\u001b[0m\u001b[0;34m:\u001b[0m\u001b[0;34m\u001b[0m\u001b[0;34m\u001b[0m\u001b[0m\n\u001b[1;32m      3\u001b[0m     \u001b[0mcontent\u001b[0m \u001b[0;34m=\u001b[0m \u001b[0mfile\u001b[0m\u001b[0;34m.\u001b[0m\u001b[0mreadlines\u001b[0m\u001b[0;34m(\u001b[0m\u001b[0;34m)\u001b[0m\u001b[0;34m[\u001b[0m\u001b[0;34m:\u001b[0m\u001b[0;36m2\u001b[0m\u001b[0;34m]\u001b[0m\u001b[0;34m\u001b[0m\u001b[0;34m\u001b[0m\u001b[0m\n\u001b[0;32m----> 4\u001b[0;31m     \u001b[0mfile\u001b[0m\u001b[0;34m.\u001b[0m\u001b[0mwrite\u001b[0m\u001b[0;34m(\u001b[0m\u001b[0;34m\"Paikistan zindabad!\"\u001b[0m\u001b[0;34m)\u001b[0m\u001b[0;31m# break rule / try to write with wrong mode \"r\"\u001b[0m\u001b[0;34m\u001b[0m\u001b[0;34m\u001b[0m\u001b[0m\n\u001b[0m\u001b[1;32m      5\u001b[0m     \u001b[0mprint\u001b[0m\u001b[0;34m(\u001b[0m\u001b[0mtype\u001b[0m\u001b[0;34m(\u001b[0m\u001b[0mcontent\u001b[0m\u001b[0;34m)\u001b[0m\u001b[0;34m)\u001b[0m\u001b[0;34m\u001b[0m\u001b[0;34m\u001b[0m\u001b[0m\n\u001b[1;32m      6\u001b[0m     \u001b[0mprint\u001b[0m\u001b[0;34m(\u001b[0m\u001b[0mcontent\u001b[0m\u001b[0;34m)\u001b[0m\u001b[0;34m\u001b[0m\u001b[0;34m\u001b[0m\u001b[0m\n",
      "\u001b[0;31mUnsupportedOperation\u001b[0m: not writable"
     ]
    }
   ],
   "source": [
    "# with open(file) as <variable>\n",
    "with open(\"abc1.txt\") as file:\n",
    "    content = file.readlines()[:2]\n",
    "    file.write(\"Paikistan zindabad!\")# break rule / try to write with wrong mode \"r\"\n",
    "    print(type(content))\n",
    "    print(content)"
   ]
  },
  {
   "cell_type": "code",
   "execution_count": 57,
   "metadata": {},
   "outputs": [
    {
     "ename": "UnsupportedOperation",
     "evalue": "not readable",
     "output_type": "error",
     "traceback": [
      "\u001b[0;31m-----------------------------------------------------------------------\u001b[0m",
      "\u001b[0;31mUnsupportedOperation\u001b[0m                  Traceback (most recent call last)",
      "\u001b[0;32m<ipython-input-57-48449fe97337>\u001b[0m in \u001b[0;36m<module>\u001b[0;34m\u001b[0m\n\u001b[1;32m      1\u001b[0m \u001b[0;32mwith\u001b[0m \u001b[0mopen\u001b[0m\u001b[0;34m(\u001b[0m\u001b[0;34m\"abc1.txt\"\u001b[0m\u001b[0;34m,\u001b[0m \u001b[0mmode\u001b[0m\u001b[0;34m=\u001b[0m\u001b[0;34m'w'\u001b[0m\u001b[0;34m)\u001b[0m \u001b[0;32mas\u001b[0m \u001b[0mf\u001b[0m\u001b[0;34m:\u001b[0m\u001b[0;34m\u001b[0m\u001b[0;34m\u001b[0m\u001b[0m\n\u001b[0;32m----> 2\u001b[0;31m     \u001b[0mcontent\u001b[0m \u001b[0;34m=\u001b[0m \u001b[0mf\u001b[0m\u001b[0;34m.\u001b[0m\u001b[0mreadlines\u001b[0m\u001b[0;34m(\u001b[0m\u001b[0;34m)\u001b[0m\u001b[0;31m# rule break / try to read with \"w\" not allowed\u001b[0m\u001b[0;34m\u001b[0m\u001b[0;34m\u001b[0m\u001b[0m\n\u001b[0m\u001b[1;32m      3\u001b[0m     \u001b[0mprint\u001b[0m\u001b[0;34m(\u001b[0m\u001b[0mcontent\u001b[0m\u001b[0;34m)\u001b[0m\u001b[0;34m\u001b[0m\u001b[0;34m\u001b[0m\u001b[0m\n",
      "\u001b[0;31mUnsupportedOperation\u001b[0m: not readable"
     ]
    }
   ],
   "source": [
    "with open(\"abc1.txt\", mode='w') as f:\n",
    "    content = f.readlines()# rule break / try to read with \"w\" not allowed\n",
    "    print(content)"
   ]
  },
  {
   "cell_type": "code",
   "execution_count": 59,
   "metadata": {},
   "outputs": [],
   "source": [
    "with open(\"abc2.txt\", mode='w') as f:\n",
    "    f.write(\"Pakista zinda bad!\")"
   ]
  },
  {
   "cell_type": "code",
   "execution_count": 60,
   "metadata": {},
   "outputs": [],
   "source": [
    "with open(\"abc2.txt\", mode='w') as f: # write truncate concept\n",
    "    f.write(\"We are Pakistani!\")"
   ]
  },
  {
   "cell_type": "code",
   "execution_count": 61,
   "metadata": {},
   "outputs": [],
   "source": [
    "with open(\"abc3.txt\", 'a') as f:\n",
    "    f.write(\"\\nHello World1!\")"
   ]
  },
  {
   "cell_type": "code",
   "execution_count": 63,
   "metadata": {},
   "outputs": [],
   "source": [
    "with open(\"abc3.txt\", 'a') as f:\n",
    "    f.write(\"\\nHello World4!\")"
   ]
  },
  {
   "cell_type": "code",
   "execution_count": 64,
   "metadata": {},
   "outputs": [],
   "source": [
    "with open(\"abc3.txt\", 'a') as f:\n",
    "    f.write(\"\\nHello World3!\")"
   ]
  },
  {
   "cell_type": "code",
   "execution_count": 68,
   "metadata": {},
   "outputs": [
    {
     "name": "stdout",
     "output_type": "stream",
     "text": [
      "['Hello World5\\n', '!Hello World5\\n', '!Hello World5\\n', '!']\n"
     ]
    }
   ],
   "source": [
    "with open(\"abc4.txt\", 'a+') as f:\n",
    "    f.write(\"Hello World5\\n!\")\n",
    "    f.seek(0)# cursor postion set at start \n",
    "    c = f.readlines()# we can also read with \"a+\"\n",
    "    print(c)"
   ]
  },
  {
   "cell_type": "code",
   "execution_count": 71,
   "metadata": {},
   "outputs": [
    {
     "data": {
      "text/plain": [
       "<_io.TextIOWrapper name='abc6.txt' mode='x' encoding='UTF-8'>"
      ]
     },
     "execution_count": 71,
     "metadata": {},
     "output_type": "execute_result"
    }
   ],
   "source": [
    "open('abc6.txt', 'x')"
   ]
  },
  {
   "cell_type": "code",
   "execution_count": 72,
   "metadata": {},
   "outputs": [
    {
     "ename": "FileExistsError",
     "evalue": "[Errno 17] File exists: 'abc6.txt'",
     "output_type": "error",
     "traceback": [
      "\u001b[0;31m-----------------------------------------------------------------------\u001b[0m",
      "\u001b[0;31mFileExistsError\u001b[0m                       Traceback (most recent call last)",
      "\u001b[0;32m<ipython-input-72-2dd2ac3e5142>\u001b[0m in \u001b[0;36m<module>\u001b[0;34m\u001b[0m\n\u001b[0;32m----> 1\u001b[0;31m \u001b[0mopen\u001b[0m\u001b[0;34m(\u001b[0m\u001b[0;34m'abc6.txt'\u001b[0m\u001b[0;34m,\u001b[0m \u001b[0;34m'x'\u001b[0m\u001b[0;34m)\u001b[0m\u001b[0;34m\u001b[0m\u001b[0;34m\u001b[0m\u001b[0m\n\u001b[0m",
      "\u001b[0;31mFileExistsError\u001b[0m: [Errno 17] File exists: 'abc6.txt'"
     ]
    }
   ],
   "source": [
    "open('abc6.txt', 'x')"
   ]
  },
  {
   "cell_type": "code",
   "execution_count": null,
   "metadata": {},
   "outputs": [],
   "source": [
    "import matplotlib.pyplot as plt\n",
    "import matplotlib.image as mpimg\n",
    "\n",
    "img=mpimg.imread('files/a.jpg')# read image\n",
    "# print(img.shape)#\n",
    "plt.imshow(img)# display image\n"
   ]
  },
  {
   "cell_type": "code",
   "execution_count": null,
   "metadata": {},
   "outputs": [],
   "source": [
    "from PIL import Image\n",
    "image = Image.open(\"./files/hamza.png\")\n",
    "image.show()"
   ]
  },
  {
   "cell_type": "code",
   "execution_count": null,
   "metadata": {},
   "outputs": [],
   "source": [
    "# pip install opencv-python\n",
    "import cv2\n",
    "image = cv2.imread('./files/hamza.png')\n",
    "plt.imshow(image)\n",
    "plt.show()"
   ]
  },
  {
   "cell_type": "code",
   "execution_count": null,
   "metadata": {},
   "outputs": [],
   "source": [
    "import cv2\n",
    "im = cv2.imread(\"./files/a.jpg\" )\n",
    "#im = cv2.cvtColor(im, cv2.COLOR_BGR2RGB)  \n",
    "im.shape\n",
    "plt.imshow(im)"
   ]
  },
  {
   "cell_type": "code",
   "execution_count": null,
   "metadata": {},
   "outputs": [],
   "source": [
    "import cv2\n",
    "im = cv2.imread(\"./files/a.jpg\" )\n",
    "im = cv2.cvtColor(im, cv2.COLOR_BGR2RGB)  \n",
    "im.shape\n",
    "plt.imshow(im)"
   ]
  },
  {
   "cell_type": "code",
   "execution_count": null,
   "metadata": {},
   "outputs": [],
   "source": [
    "from tensorflow.keras.preprocessing import image\n",
    "\n",
    "X_test=image.load_img('./files/a.jpg',target_size=(28,28),color_mode=\"rgb\"); #loading image and then convert it into grayscale and with it's target size \n",
    "X_test=image.img_to_array(X_test); #convert image into array\n",
    "print(X_test.shape)\n",
    "plt.imshow(X_test/255)"
   ]
  },
  {
   "cell_type": "code",
   "execution_count": null,
   "metadata": {},
   "outputs": [],
   "source": [
    "import numpy as np\n",
    "im = np.array(Image.open('./files/a.jpg').convert('L'))\n",
    "plt.imshow(im)\n",
    "plt.show()"
   ]
  },
  {
   "cell_type": "code",
   "execution_count": null,
   "metadata": {},
   "outputs": [],
   "source": [
    "import matplotlib.pyplot as plt\n",
    "\n",
    "plt.imshow(im, cmap=plt.get_cmap('gray'))"
   ]
  },
  {
   "cell_type": "code",
   "execution_count": null,
   "metadata": {},
   "outputs": [],
   "source": [
    "from scipy.io import wavfile\n",
    "rate1,dat1 = wavfile.read('./files/audio.wav')\n",
    "print(rate1)\n",
    "print(dat1)"
   ]
  },
  {
   "cell_type": "code",
   "execution_count": null,
   "metadata": {},
   "outputs": [],
   "source": [
    "import matplotlib.pyplot as plt\n",
    "import numpy as np\n",
    "import wave\n",
    "import sys\n",
    "\n",
    "\n",
    "spf = wave.open(\"./files/audio.wav\", \"r\")\n",
    "# Extract Raw Audio from Wav File\n",
    "signal = spf.readframes(-1)\n",
    "signal = np.fromstring(signal,np.int16)\n",
    "\n",
    "plt.figure(1)\n",
    "plt.title(\"Signal Wave...\")\n",
    "plt.plot(signal)\n",
    "plt.show()"
   ]
  },
  {
   "cell_type": "code",
   "execution_count": null,
   "metadata": {},
   "outputs": [],
   "source": [
    "import numpy as np\n",
    "import cv2\n",
    "\n",
    "cap = cv2.VideoCapture(0)\n",
    " \n",
    "while(True):\n",
    "    ret, frame = cap.read()\n",
    "    gray = cv2.cvtColor(frame, cv2.COLOR_BGR2GRAY)\n",
    " \n",
    "    cv2.imshow('frame',gray)\n",
    "    if cv2.waitKey(1) & 0xFF == ord('q'):\n",
    "        break\n",
    "\n",
    "cap.release()\n",
    "cv2.destroyAllWindows()"
   ]
  },
  {
   "cell_type": "code",
   "execution_count": null,
   "metadata": {},
   "outputs": [],
   "source": [
    "import numpy as np\n",
    "import cv2\n",
    "\n",
    "cap = cv2.VideoCapture(0)\n",
    " \n",
    "while(True):\n",
    "    ret, frame = cap.read()\n",
    "    gray = cv2.cvtColor(frame, cv2.COLOR_BGR2RGB)\n",
    " \n",
    "    cv2.imshow('frame',gray)\n",
    "    if cv2.waitKey(1) & 0xFF == ord('q'):\n",
    "        break\n",
    "\n",
    "cap.release()\n",
    "cv2.destroyAllWindows()\n",
    "\n"
   ]
  },
  {
   "cell_type": "code",
   "execution_count": null,
   "metadata": {},
   "outputs": [],
   "source": [
    "import cv2\n",
    "\n",
    "cap = cv2.VideoCapture(\"./files/mov_bbb.mp4\")\n",
    "ret, frame = cap.read()\n",
    "while(1):\n",
    "   ret, frame = cap.read()\n",
    "   cv2.imshow('frame',frame)\n",
    "   if cv2.waitKey(2) & 0xFF == ord('q') or ret==False :\n",
    "       cap.release()\n",
    "       cv2.destroyAllWindows()\n",
    "       break\n",
    "   cv2.imshow('frame',frame)\n",
    "\n"
   ]
  },
  {
   "cell_type": "code",
   "execution_count": null,
   "metadata": {},
   "outputs": [],
   "source": [
    "import pandas as pd\n",
    "\n",
    "df = pd.read_excel(\"./files/data.xlsx\")\n",
    "df.head()"
   ]
  },
  {
   "cell_type": "code",
   "execution_count": null,
   "metadata": {},
   "outputs": [],
   "source": [
    "df = pd.read_json(\"https://jsonplaceholder.typicode.com/todos/\")\n",
    "df"
   ]
  },
  {
   "cell_type": "code",
   "execution_count": null,
   "metadata": {},
   "outputs": [],
   "source": [
    "open??"
   ]
  },
  {
   "cell_type": "code",
   "execution_count": null,
   "metadata": {},
   "outputs": [],
   "source": [
    "# %load a.py\n",
    "import numpy as np\n",
    "import cv2\n",
    "\n",
    "cap = cv2.VideoCapture(0)\n",
    " \n",
    "while(True):\n",
    "    ret, frame = cap.read()\n",
    "    gray = cv2.cvtColor(frame, cv2.COLOR_BGR2RGB)\n",
    " \n",
    "    cv2.imshow('frame',gray)\n",
    "    if cv2.waitKey(1) & 0xFF == ord('q'):\n",
    "        break\n",
    "\n",
    "cap.release()\n",
    "cv2.destroyAllWindows()\n"
   ]
  },
  {
   "cell_type": "code",
   "execution_count": null,
   "metadata": {},
   "outputs": [],
   "source": [
    "%pwd"
   ]
  },
  {
   "cell_type": "markdown",
   "metadata": {},
   "source": [
    "# Attendance"
   ]
  },
  {
   "cell_type": "code",
   "execution_count": null,
   "metadata": {},
   "outputs": [],
   "source": [
    "x = \"\"\"\n",
    "09:05:21 From Usman Noor PIAIC-188401 To Everyone : yes\n",
    "09:06:19 From Sadia To Everyone : aslam o alekum sir\n",
    "09:06:44 From Jawad Ahmed PIAIC96020 To Everyone : going great\n",
    "09:07:25 From Adnan Ul Haq (PIAIC-103786) To Everyone : PIAIC103786\n",
    "09:07:42 From Muhammad Furqan(PIAIC183270) To Everyone : Assalm O Alaikum\n",
    "09:08:02 From Muhammad Furqan(PIAIC183270) To Everyone : PIAIC183270\n",
    "09:08:15 From Mohammad Ali Asif Khan - PIAIC-57947 To Everyone : Mohammad Ali Asif Khan - PIAIC-57947\n",
    "09:08:26 From Adnan Ul Haq (PIAIC-103786) To Everyone : PIAIC103786\n",
    "09:08:53 From Amir Rashid To Everyone : PIAIC107890\n",
    "09:08:58 From اسامه سلفى To Everyone : PIAIC91925\n",
    "09:09:01 From Hammad Ahmad To Everyone : PIAIC172695\n",
    "09:09:23 From fozia-shareen-piaic-165097 To Everyone : PIAIC650796\n",
    "09:09:28 From Muhammad Athar To Everyone : PIAIC174016\n",
    "09:10:02 From Ehtesham Ali Khan-PIAIC132489 To Everyone : piaic 132489\n",
    "09:11:05 From Faisal Malik To Everyone : hello\n",
    "09:11:28 From Syed Jawad [PIAIC185558] To Everyone : accesss modifier\n",
    "09:11:36 From Adnan Ul Haq (PIAIC-103786) To Everyone : Screen nhi arahi\n",
    "09:12:04 From Shoaib PIAIC-178354 To Everyone : Shoaib PIAIC178354\n",
    "09:12:13 From Faisal Malik To Everyone : from where can get Jupiter notebook files?\n",
    "09:12:44 From Syed Jawad [PIAIC185558] To Everyone : huh?\n",
    "09:12:49 From PIAIC183349 Muahhamd Waseem To Everyone : PIAIC183349\n",
    "09:12:55 From Samina-PIAIC52499 To Everyone : piaic 52499\n",
    "09:13:18 From Noman Ali PIAIC 180111 To Everyone : PIAIC180111\n",
    "09:14:26 From Abu Bakar To Everyone : PIAIC50303 Muhammad Abu Bakar\n",
    "09:15:02 From fozia-shareen-piaic-165097 To Everyone : PIAIC150796 Fozia\n",
    "09:15:07 From Usman Noor PIAIC-188401 To Everyone : no\n",
    "09:15:09 From Amir Rashid To Everyone : no\n",
    "09:16:02 From Gulshan Ali To Everyone : Gulshan Ali PIAIC176719\n",
    "09:16:07 From Faizan Muhammad To Everyone : PIAIC189427\n",
    "09:17:16 From Saeed To Everyone : PIAIC131885\n",
    "09:19:18 From Junaid Ali Bhatti To Everyone : Junaid Ali Bhatti\n",
    "09:19:20 From Junaid Ali Bhatti To Everyone : PIAIC174125\n",
    "09:19:44 From Neelum Javaid 172527 To Everyone : Neelum javaid PIAIC172527\n",
    "09:20:16 From Humera Naz To Everyone : PIAIC 173431\n",
    "09:21:58 From Shahid PIAIC134239 To Everyone : PIAIC134239 Muhammed Shahid\n",
    "09:22:22 From Kabeer Rajput To Everyone : PIAIC133488\n",
    "09:31:18 From Nasrullah (PIAIC 180162) To Everyone : PIAIC180162\n",
    "09:33:53 From PIAIC133985 Muhammad Naveed To Everyone : PIAIC133985\n",
    "09:34:01 From Abu Bakar To Everyone : PIAIC50303 Muhammad Abu Bakar\n",
    "09:34:24 From Amna Liaqat PIAIC 133452 To Everyone : Amna PIAIC133452\n",
    "09:35:13 From PIAIC183459 Irfan Ahmed To Everyone : PIAIC183459 Irfan Ahmed\n",
    "09:36:19 From Hasnain Munir To Everyone : PIAIC187272\n",
    "09:42:53 From Hasnain Munir To Everyone : PIAIC187272\n",
    "09:43:56 From Sheeraz PIAIC 132123 To Everyone : PIAIC132123\n",
    "09:45:53 From Irtiza Khan [PIAIC 171375] To Everyone : PIAIC171375\n",
    "09:46:26 From PIAIC183459 Irfan Ahmed To Everyone : PIAIC183459\n",
    "09:46:38 From Muhammad Sadullah - PIAIC178950 To Everyone : PIAIC178950\n",
    "09:49:02 From Adnan Ul Haq (PIAIC-103786) To Everyone : Optional attributes pythons ma pass krskty hb\n",
    "09:49:06 From PIAIC149101 sana To Everyone : PIAIC149101\n",
    "09:49:46 From Naeem Sultan To Everyone : PIAIC116704\n",
    "09:50:01 From Zaki | PIAIC172541 To Everyone : PIAIC172541\n",
    "09:52:55 From PIAIC174016 To Everyone : PIAIC174016\n",
    "09:54:40 From Irfan Ahmed To Everyone : PIAIC172147\n",
    "09:58:29 From (PIAIC-189416) Muhammad Murtaza Khan To Everyone : PIAIC189416\n",
    "09:59:25 From Zaki | PIAIC172541 To Everyone : PIAIC172541\n",
    "10:00:10 From Mirza Muhammad Shahid To Everyone : PIAIC005259\n",
    "10:05:29 From Hasnain Munir To Everyone : PIAIC187272\n",
    "10:05:31 From Sheeraz PIAIC 132123 To Everyone : PIAIC132123\n",
    "10:08:41 From Irfan Ahmed To Everyone : PIAIC183459\n",
    "10:08:56 From SafeerAhmad 139339 To Everyone : PIAIC139339\n",
    "10:11:35 From asghar ibraheem baloch CNC-012105 To Everyone : abstract base class\n",
    "10:12:00 From Kamran Chughtai To Everyone : PIAIC107869\n",
    "10:16:03 From Kainat PIAIC182352 To Everyone : Piaic182352\n",
    "10:16:46 From Salman Nayyer PIAIC180996 To Everyone : PIAIC180996\n",
    "10:17:58 From PIAIC172478 To Everyone : PIAIC172478\n",
    "10:18:22 From SafeerAhmad 139339 To Everyone : PIAIC139339\n",
    "10:19:02 From Owais Khattak To Everyone : Name: MUHAMMAD OWAIS\n",
    "\n",
    "Roll No: PIAIC139392\n",
    "10:20:49 From muhammad faizan piaic 172328 To Everyone : piaic172328\n",
    "10:21:05 From PIAIC133985 Muhammad Naveed To Everyone : PIAIC133985\n",
    "10:26:22 From Dr. Engr. Bhagwan Das To Everyone : PIAIC96879\n",
    "10:26:26 From Muhammad Sadullah - PIAIC178950 To Everyone : PIAIC178950\n",
    "10:26:34 From Mohammad Javed To Everyone : PIAIC185754\n",
    "10:26:50 From Noman Saleem khan PIAIC-131844 To Everyone : PIAIC-\n",
    "10:26:59 From Noman Saleem khan PIAIC-131844 To Everyone : 13844\n",
    "10:27:00 From Sadia To Everyone : piaic180028\n",
    "10:29:39 From Irfan Ahmed - (PIAIC178547) To Everyone : https://stackoverflow.com/questions/35254852/how-to-change-the-jupyter-start-up-folder\n",
    "10:30:43 From Kamran Chughtai To Everyone : mro\n",
    "10:31:29 From PIAIC172478 To Everyone : PIAIC172478\n",
    "10:31:42 From Hifza Ansari To Everyone : attendance hogai?\n",
    "10:32:06 From Irfan Ahmed To Everyone : ha\n",
    "10:32:07 From Zeeshan Asim : PIAIC55300 To Everyone : Zeeshan Asim Khan, PIAIC55300\n",
    "10:32:17 From Samsung SM-A325F To Everyone : PIAIC178248\n",
    "10:32:59 From Azhar Piaic179898 To Everyone : Azhar Piaic179898\n",
    "10:32:59 From Hifza Ansari To Everyone : PIAIC177625\n",
    "10:33:20 From Owais Khattak To Everyone : Name: MUHAMMAD OWAIS\n",
    "\n",
    "Roll No: PIAIC139392\n",
    "10:33:21 From Kashif To Everyone : PIAIC181638\n",
    "10:33:35 From Sheeraz PIAIC 132123 To Everyone : PIAIC 132123\n",
    "10:36:01 From Saad Aslam To Everyone : PIAIC187831\n",
    "10:36:01 From PIAIC183730 To Everyone : PIAIC183730\n",
    "10:36:13 From Samina-PIAIC52499 To Everyone : piaic 52499\n",
    "10:37:21 From PIAIC_173701_Taqwa Khaliq To Everyone : PIAIC_173701\n",
    "10:39:23 From Mohammad Ali Asif Khan - PIAIC-57947 To Everyone : Mohammad Ali Asif Khan - PIAIC-57947\n",
    "10:39:54 From PIAIC172478 To Everyone : PIAIC172478\n",
    "10:39:54 From Hammad Ahmad To Everyone : PIAIC172695\n",
    "10:40:13 From Nadeem ali Jamro PIAIC166522 To Everyone : PIAIC166522\n",
    "10:40:34 From Irfan Ahmed To Everyone : PIAIC172147\n",
    "10:40:35 From Saeed To Everyone : attendance\n",
    "10:40:47 From Irfan Ahmed - (PIAIC178547) To Everyone : PIAIC178547\n",
    "10:41:03 From Irfan Ahmed To Everyone : PIAIC183459\n",
    "10:41:04 From Usman To Everyone : PIAIC158280\n",
    "10:41:20 From Mirha Fatima To Everyone : PIAIC59115\n",
    "10:41:50 From Qadeer Ahmed - 163577 To Everyone : PIAIC163577\n",
    "10:42:52 From Moeed Masood PIAIC185253 To Everyone : pip install -i https://test.pypi.org/simple/ moeed-package\n",
    "10:43:02 From Moeed Masood PIAIC185253 To Everyone : my package on test pypi\n",
    "10:43:11 From Yousaf-173795 To Everyone : PIAIC173795\n",
    "10:43:11 From wasiq imtiaz To Everyone : PIAIC178064\n",
    "10:43:39 From Asim sharif(PIAIC172797) To Everyone : PIAIC172797\n",
    "10:43:52 From Usman To Everyone : share git repo link\n",
    "10:46:38 From Mian Azhar To Everyone : PIAIC172641\n",
    "10:48:19 From Irfan Ahmed To Everyone : PIAIC183459\n",
    "10:48:48 From Farhan-PIAIC186218 To Everyone : PIAIC186218\n",
    "10:50:07 From Rafay Ali PIAIC174462 To Everyone : Rafay Ali PIAIC174462\n",
    "10:51:00 From Hasnain Munir To Everyone : PIAIC187272\n",
    "10:51:13 From Usman Noor PIAIC188401 To Everyone : PIAIC188401\n",
    "10:51:15 From Jawad Ahmed PIAIC96020 To Everyone : piaic96020\n",
    "10:51:19 From Irfan Ahmed To Everyone : PIAIC183459\n",
    "10:51:30 From Zaki | PIAIC172541 To Everyone : PIAIC172541\n",
    "10:52:29 From Owais Khattak To Everyone : Name: MUHAMMAD OWAIS\n",
    "\n",
    "Roll No: PIAIC139392\n",
    "10:53:03 From Ali Raza To Everyone : PIAIC62922\n",
    "10:54:40 From Gulshan Ali To Everyone : PIAIC176719\n",
    "11:01:00 From PIAIC183349 Muahhamd Waseem To Everyone : PIAIC183349\n",
    "11:06:38 From asghar ibraheem baloch CNC-012105 To Everyone : a sy kia ban raha hy\n",
    "11:07:05 From Aisha Siddiqua To Everyone : PIAIC181221\n",
    "11:07:43 From Maha Ilyas 2874 To Everyone : +\n",
    "11:07:43 From M. ADNAN SAEE PIAIC-174751 To Everyone : PIAIC-174751\n",
    "11:08:00 From PIAIC172478 To Everyone : PIAIC172478\n",
    "11:08:06 From Irtiza Khan [PIAIC 171375] To Everyone : PIAIC171375\n",
    "11:08:12 From Owais Khattak To Everyone : Name: MUHAMMAD OWAIS\n",
    "\n",
    "Roll No: PIAIC139392\n",
    "11:09:40 From Irfan Ahmed To Everyone : PIAIC183459\n",
    "11:10:00 From Amna Liaqat PIAIC 133452 To Everyone : PIAIC133452\n",
    "11:10:22 From Zaki | PIAIC172541 To Everyone : PIAIC172541\n",
    "11:10:43 From asghar ibraheem baloch CNC-012105 To Everyone : list hy\n",
    "11:11:45 From Mohsin Naseer PIAIC68513 To Everyone : PIAIC 68513\n",
    "11:11:56 From Hasnain Munir To Everyone : PIAIC187272\n",
    "11:12:23 From Irfan Ahmed To Everyone : PIAIC183459\n",
    "11:12:53 From Musa Abkr To Everyone : PIAIC116498\n",
    "11:14:37 From asghar ibraheem baloch CNC-012105 To Everyone : Read rule\n",
    "11:15:09 From Taqwa Khaliq To Everyone : PIAIC 173701\n",
    "Taqwa Khaliq\n",
    "11:15:11 From PIAIC173795 To Everyone : PIAIC173795\n",
    "11:15:15 From Abdul Saboor Zaman To Everyone : PIAIC189261\n",
    "11:15:19 From Kashif Khan 143001 To Everyone : piaic 143001\n",
    "11:15:23 From M. Noman Farooq To Everyone : BCC001845\n",
    "11:15:27 From Hammad Ahmad To Everyone : PIAIC172695\n",
    "11:16:39 From ALI ISMAIL HUSSAIN To Everyone : IOT048687\n",
    "11:17:00 From Hasnain Munir To Everyone : PIAIC187272\n",
    "11:17:22 From Nadeem ali Jamro PIAIC166522 To Everyone : PIAIC166522\n",
    "11:17:27 From Akbar Ali To Everyone : PIAIC168636\n",
    "11:17:35 From Irfan Ahmed - (PIAIC178547) To Everyone : myfile = open(\"abc.txt\", \"r\")\n",
    "myline = myfile.readline()\n",
    "while myline:\n",
    "    print(myline)\n",
    "    myline = myfile.readline()\n",
    "myfile.close()\n",
    "11:17:46 From Irfan Ahmed To Everyone : PIAIC183459\n",
    "11:17:56 From Owais Khattak To Everyone : Name: MUHAMMAD OWAIS\n",
    "\n",
    "Roll No: PIAIC139392\n",
    "11:18:11 From sohaib-PIAIC67260 To Everyone : PIAIC67260\n",
    "11:18:23 From Muneeb(PIAIC173219) To Everyone : PIAIC173219\n",
    "11:18:59 From asghar ibraheem baloch CNC-012105 To Everyone : simple write mode\n",
    "11:19:06 From Maha Ilyas 2874 To Everyone : PIAIC- 177982\n",
    "11:19:40 From PIAIC133985 Muhammad Naveed To Everyone : PIAIC133985\n",
    "11:21:18 From Irfan Ahmed - (PIAIC178547) To Everyone : overwrite\n",
    "11:21:26 From asghar ibraheem baloch CNC-012105 To Everyone : ov3rwrite\n",
    "11:21:51 From Irfan Ahmed - (PIAIC178547) To Everyone : empty\n",
    "11:22:22 From muhammad faizan piaic 172328 To Everyone : sir voice drop ho rhy heh\n",
    "11:22:53 From Azhar Piaic179898 To Everyone : Azhar Piaic179898\n",
    "11:23:36 From Saeed To Everyone : please take attendance around 11:45\n",
    "11:23:42 From Safeer 139339 To Everyone : PIAIC139339\n",
    "11:23:48 From asghar ibraheem baloch CNC-012105 To Everyone : append hamesha last.line sy hoga\n",
    "11:23:49 From Owais Khattak To Everyone : Name: MUHAMMAD OWAIS\n",
    "\n",
    "Roll No: PIAIC139392\n",
    "11:23:49 From Safeer 139339 To Everyone : PIAIC182978\n",
    "11:24:48 From اسامه سلفى To Everyone : PIAIC91925\n",
    "11:25:04 From Muhammad Usman Manzoor To Everyone : PIAIC119347\n",
    "11:25:09 From Muhammad Usman Manzoor To Everyone : PIAIC119347\n",
    "11:26:46 From Irtiza Khan [PIAIC 171375] To Everyone : PIAIC171375\n",
    "11:26:56 From Hasnain Munir To Everyone : PIAIC187272\n",
    "11:27:25 From Syed Jawad [PIAIC185558] To Everyone : PIAIC185558\n",
    "11:28:02 From Irfan Ahmed To Everyone : PIAIC183459\n",
    "11:29:03 From Gulshan Ali To Everyone : PIAIC176719\n",
    "11:29:16 From Zaki | PIAIC172541 To Everyone : PIAIC172541\n",
    "11:29:39 From Irfan Ahmed - (PIAIC178547) To Everyone : shell ma command likhain\n",
    "11:29:42 From Irfan Ahmed - (PIAIC178547) To Everyone : error aa jae ga\n",
    "11:29:43 From Jawad Ahmed PIAIC96020 To Everyone : piaic96020\n",
    "11:29:50 From PIAIC173795 To Everyone : PIAIC173795\n",
    "11:29:56 From Khîzer Khan To Everyone : PIAIC173985\n",
    "11:30:08 From SadafMansoor PIAIC84989 To Everyone : PIAIC84989\n",
    "11:31:14 From Irfan Ahmed - (PIAIC178547) To Everyone : sai hai\n",
    "11:31:19 From asghar ibraheem baloch CNC-012105 To Everyone : tehk hy\n",
    "11:32:14 From Saeed To Everyone : PIAIC-131885\n",
    "11:35:30 From PIAIC172478 To Everyone : PIAIC172478\n",
    "11:37:01 From daud To Everyone : PIAIC173579\n",
    "11:38:35 From Irfan Ahmed To Everyone : PIAIC183459\n",
    "11:39:03 From Sadia To Everyone : piaic180028\n",
    "11:39:26 From Muhammad Uzair-177637 To Everyone : PIAIC177637\n",
    "11:39:29 From (PIAIC-189416) Muhammad Murtaza Khan To Everyone : PIAIC189416\n",
    "11:40:22 From Shoaib PIAIC-178354 To Everyone : PIAIC178354\n",
    "11:40:58 From Irfan Ahmed - (PIAIC178547) To Everyone : yes\n",
    "11:40:59 From Akbar Ali To Everyone : PIAIC168636\n",
    "11:41:05 From PIAIC183349 Muahhamd Waseem To Everyone : PIAIC183349\n",
    "11:41:08 From Irfan Ahmed - (PIAIC178547) To Everyone : net issue\n",
    "11:41:13 From Irfan Ahmed To Everyone : PIAIC183459\n",
    "11:41:21 From Moeed Masood PIAIC185253 To Everyone : PIAIC185253\n",
    "11:41:26 From Aneeq To Everyone : PIAIC172924\n",
    "11:41:30 From Wajeeha Ayaz To Everyone : PIAIC 174656\n",
    "11:41:40 From Haider Ali-PIAIC179345 To Everyone : PIAIC179345\n",
    "11:41:47 From Uzair Ullah To Everyone : PIAIC169405\n",
    "11:41:51 From Saeed To M.Qasim(Teacher)(Privately) : Assalamaulikum , dear sir, please take attendance as I have to leave for another class\n",
    "11:41:58 From Imran Ahmed To Everyone : Imran Ahmed_PIAIC95846\n",
    "11:42:10 From muhammad faizan piaic 172328 To Everyone : piaic172328\n",
    "11:42:39 From Salma Asif To Everyone : PIAIC176945\n",
    "11:43:11 From Muhammad Sadullah - PIAIC178950 To Everyone : PIAIC178950\n",
    "11:45:10 From Saeed To Everyone : power bi main bhi python interface hai\n",
    "11:45:23 From PIAIC188523 - SUBHAN AHMED To Everyone : PIAIC188523\n",
    "11:45:27 From Saeed To Everyone : with \"P\"visual\n",
    "11:46:18 From Irfan Ahmed - (PIAIC178547) To Everyone : zoom\n",
    "11:46:51 From Gulshan Ali To Everyone : PIAIC176719\n",
    "11:48:01 From Irfan Ahmed To Everyone : PIAIC183459\n",
    "11:48:21 From Irtiza Khan [PIAIC 171375] To Everyone : PIAIC171375\n",
    "11:48:31 From Musa Abkr To Everyone : PIAIC116498\n",
    "11:50:55 From Mashal Zahra To Everyone : PIAIC178751\n",
    "11:51:00 From Zaki | PIAIC172541 To Everyone : PIAIC172541\n",
    "11:51:00 From Salman Nayyer To Everyone : PIAIC 180996\n",
    "11:51:16 From muhammad faizan piaic 172328 To Everyone : piaic172328\n",
    "11:52:03 From Hammad Ahmad To Everyone : PIAIC172695\n",
    "11:54:02 From muhammad faizan piaic 172328 To Everyone : piaic172328\n",
    "11:54:32 From Humera Naz To Everyone : pIAIC 173431\n",
    "11:54:49 From Hammad Ahmad To Everyone : PIAIC172695\n",
    "11:55:03 From Sadia To Everyone : piaic180028\n",
    "11:55:11 From Salman Nayyer To Everyone : PIAIC180996\n",
    "11:55:14 From Muhammad Sadullah - PIAIC178950 To Everyone : PIAIC178950\n",
    "11:55:22 From Musa Abkr To Everyone : PIAIC116498\n",
    "11:55:48 From Gulshan Ali To Everyone : PIAIC176719\n",
    "11:55:57 From Saeed To M.Qasim(Teacher)(Privately) : assalamaualikum , I main .db extention ki files ka connection karawana sikh dain\n",
    "11:56:15 From PIAIC173795 To Everyone : PIAIC173795\n",
    "11:56:17 From Irtiza Khan [PIAIC 171375] To Everyone : PIAIC171375\n",
    "11:56:54 From Dr. Engr. Bhagwan Das To Everyone : PIAIC96879\n",
    "11:56:54 From muhammad faizan piaic 172328 To Everyone : piaic172328\n",
    "11:57:03 From Maah Noor PIAIC168751 To Everyone : PIAIC168751\n",
    "11:57:19 From (PIAIC-189416) Muhammad Murtaza Khan To Everyone : PIAIC189416\n",
    "11:57:20 From Hasnain Munir To Everyone : PIAIC187272\n",
    "11:57:23 From Hasnain Munir To Everyone : PIAIC187272\n",
    "11:57:59 From Irfan Ahmed To Everyone : PIAIC183459\n",
    "11:58:05 From Hamza To Everyone : PIAIC173652\n",
    "11:58:06 From Nasrullah (PIAIC 180162) To Everyone : PIAIC180162\n",
    "11:58:08 From Dr. Engr. Bhagwan Das To Everyone : PIAIC96879\n",
    "11:59:53 From Irfan Ahmed - (PIAIC178547) To Everyone : file extension\n",
    "12:00:11 From Agha ALi PIAIC164763 To Everyone : PIAIC164763\n",
    "12:00:14 From Maaz-PIAIC182239 To Everyone : PIAIC182239\n",
    "12:00:19 From Ali Raza To Everyone : PIAIC62922\n",
    "12:01:01 From Irfan Ahmed To Everyone : PIAIC183459\n",
    "12:01:06 From Jawad Ahmed PIAIC96020 To Everyone : PIAIC96020\n",
    "12:01:11 From Gulshan Ali To Everyone : PIAIC176719\n",
    "12:01:12 From Syed Jawad [PIAIC185558] To Everyone : PIAIC185558\n",
    "12:01:37 From Usman Noor PIAIC188401 To Everyone : PIAIC188401\n",
    "12:01:46 From asghar ibraheem baloch CNC-012105 To Everyone : aaj class long hy\n",
    "12:02:49 From M. ADNAN SAEE PIAIC-174751 To Everyone : M. ADNAN SAEED PIAIC-174751\n",
    "12:02:55 From PIAIC183349 Muahhamd Waseem To Everyone : PIAIC183349\n",
    "12:02:57 From Irfan Ahmed To Everyone : PIAIC183459\n",
    "12:02:59 From Shoaib PIAIC-178354 To Everyone : PIAIC178354\n",
    "12:02:59 From Syed Jawad [PIAIC185558] To Everyone : PIAIC185558\n",
    "12:02:59 From SHEHZAD PIAIC180057 To Everyone : PIAIC180057\n",
    "12:03:00 From Dr. Engr. Bhagwan Das To Everyone : PIAIC96879\n",
    "12:03:00 From PIAIC149101 sana To Everyone : PIAIC149101\n",
    "12:03:01 From Usman Noor PIAIC188401 To Everyone : PIAIC188401\n",
    "12:03:02 From PIAIC188523 - SUBHAN AHMED To Everyone : PIAIC188523\n",
    "12:03:02 From Hamza To Everyone : PIAIC173652\n",
    "12:03:02 From Assad Mahmood (PIAIC179144) To Everyone : PIAIC179144\n",
    "12:03:02 From Salma Asif To Everyone : PIAIC176945\n",
    "12:03:02 From Mohsin Naseer PIAIC68513 To Everyone : PIAIC68513\n",
    "12:03:02 From Maaz-PIAIC182239 To Everyone : PIAIC182239\n",
    "12:03:03 From Musa Abkr To Everyone : PIAIC116498\n",
    "12:03:03 From Moeed Masood PIAIC185253 To Everyone : PIAIC185253\n",
    "12:03:04 From Shoaib Ahmed Khan To Everyone : PIAIC159833\n",
    "12:03:04 From Dr. Engr. Bhagwan Das To Everyone : PIAIC96879\n",
    "12:03:05 From Assad Mahmood (PIAIC179144) To Everyone : PIAIC179144\n",
    "12:03:05 From Ashraf Makhdoom Syed To Everyone : PIAIC155482\n",
    "12:03:05 From PIAIC188523 - SUBHAN AHMED To Everyone : PIAIC188523\n",
    "12:03:06 From Kainat PIAIC182352 To Everyone : PIAIC182352\n",
    "12:03:06 From Raashid Mehmood To Everyone : PIAIC55486\n",
    "12:03:07 From Jawad Ahmed PIAIC96020 To Everyone : PIAIC96020\n",
    "12:03:08 From Samina-PIAIC52499 To Everyone : PIAIC 52499\n",
    "12:03:08 From Muhammad Sadullah - PIAIC178950 To Everyone : PIAIC178950\n",
    "12:03:08 From Asim sharif(PIAIC172797) To Everyone : PIAIC172797\n",
    "12:03:09 From Zeeshan Asim : PIAIC55300 To Everyone : Zeeshan Asim Khan, PIAIC55300\n",
    "12:03:09 From HuzaifaTahir PIAIC-60925 To Everyone : PIAIC60925\n",
    "12:03:10 From PIAIC188523 - SUBHAN AHMED To Everyone : PIAIC188523\n",
    "12:03:10 From Haider Ali-PIAIC179345 To Everyone : PIAIC179345\n",
    "12:03:10 From Muhammad Furqan(PIAIC183270) To Everyone : PIAIC183270\n",
    "12:03:11 From Aisha Siddiqua To Everyone : PIAIC181221\n",
    "12:03:11 From Uzair Ullah To Everyone : PIAIC169405\n",
    "12:03:11 From (PIAIC-189416) Muhammad Murtaza Khan To Everyone : PIAIC189416\n",
    "12:03:11 From Imran Ahmed To Everyone : Imran Ahmed_PIAIC95846\n",
    "12:03:12 From M. ADNAN SAEE PIAIC-174751 To Everyone : PIAIC-174751\n",
    "12:03:12 From Dr. Engr. Bhagwan Das To Everyone : PIAIC96879\n",
    "12:03:12 From Mirha Fatima To Everyone : PIAIC59115\n",
    "12:03:13 From Saad Aslam To Everyone : PIAIC187831\n",
    "12:03:14 From Salma Asif To Everyone : PIAIC176945\n",
    "12:03:14 From Muhammad Uzair-177637 To Everyone : PIAIC177637\n",
    "12:03:15 From Mashal Zahra To Everyone : PIAIC178751\n",
    "12:03:15 From Irfan Ahmed - (PIAIC178547) To Everyone : PIAIC178547\n",
    "12:03:16 From Maah Noor PIAIC168751 To Everyone : PIAIC168751\n",
    "12:03:18 From Sehrish Fatima To Everyone : PIAIC174229\n",
    "12:03:18 From Nasrullah (PIAIC 180162) To Everyone : PIAIC180162\n",
    "12:03:20 From Homesaira mehmood To Everyone : PIAIC176439\n",
    "12:03:22 From Qadeer Ahmed - 163577 To Everyone : PIAIC163577\n",
    "12:03:22 From Sadia To Everyone : Piaic180028\n",
    "12:03:22 From asghar ibraheem baloch CNC-012105 To Everyone : asghar Ibraheem Baloch CNC012105\n",
    "12:03:22 From Akbar Ali To Everyone : PIAIC168636\n",
    "12:03:23 From Saeed To Everyone : PIAIC131885\n",
    "12:03:23 From Humera Naz To Everyone : PIAIC 173431\n",
    "12:03:24 From Neelum Javaid 172527 To Everyone : PIAIC172527\n",
    "12:03:24 From Hammad Ahmad To Everyone : PIAIC172695\n",
    "12:03:24 From Irfan Ahmed To Everyone : PIAIC183459\n",
    "12:03:25 From Syed Jawad [PIAIC185558] To Everyone : PIAIC185558\n",
    "12:03:28 From Aisha Siddiqua To Everyone : PIAIC181221\n",
    "12:03:31 From Samina-PIAIC52499 To Everyone : PIAIC52499\n",
    "12:03:31 From Agha ALi PIAIC164763 To Everyone : PIAIC164763\n",
    "12:03:31 From Khuram Hussain 183490 To Everyone : PIAIC183490\n",
    "12:03:31 From Muhammad’s iPhone To Everyone : PIAIC49583\n",
    "12:03:32 From Zeenat Zakir: Piaic 133802 To Everyone : PIAIC133802\n",
    "12:03:32 From Muhammad Furqan(PIAIC183270) To Everyone : PIAIC183270\n",
    "12:03:33 From Kabeer Rajput To Everyone : PIAIC133488\n",
    "12:03:36 From Shahid PIAIC134239 To Everyone : PIAIC134239\n",
    "12:03:37 From Irfan Ahmed To Everyone : PIAIC183459\n",
    "12:03:39 From Muneeb(PIAIC173219) To Everyone : PIAIC173219\n",
    "12:03:39 From Muhammad  Imran Wali - Meezan Bank Ltd. To Everyone : PIAIC187118\n",
    "12:03:40 From Salman Nayyer To Everyone : PIAIC180996\n",
    "12:03:42 From Amir Rashid To Everyone : PIAIC107890\n",
    "12:03:45 From Kamran Chughtai To Everyone : PIAIC107869\n",
    "12:03:47 From Aisha Siddiqua To Everyone : PIAIC181221\n",
    "12:03:54 From Wajeeha Ayaz To Everyone : PIAIC 175646\n",
    "12:03:56 From Muhammad Sadullah - PIAIC178950 To Everyone : PIAIC178950\n",
    "12:03:57 From Mirza Muhammad Shahid To Everyone : PIAIC005259\n",
    "12:03:57 From Sadia To Everyone : Piaic180028\n",
    "12:03:58 From Hasnain Munir To Everyone : PIAIC187272\n",
    "12:04:01 From Aisha Siddiqua To Everyone : PIAIC181221\n",
    "12:04:03 From Jawad Ahmed PIAIC96020 To Everyone : PIAIC96020\n",
    "12:04:04 From Usman To Everyone : sir share repo link\n",
    "12:04:04 From Irtiza Khan [PIAIC 171375] To Everyone : PIAIC171375\n",
    "12:04:12 From Salman Nayyer To Everyone : PIAIC180996\n",
    "12:04:14 From Zeeshan Asim : PIAIC55300 To Everyone : PIAIC55300\n",
    "12:04:23 From Aisha Siddiqua To Everyone : PIAIC181221\n",
    "12:04:34 From Dr. Engr. Bhagwan Das To Everyone : PIAIC96879\n",
    "12:04:36 From PIAIC183349 Muahhamd Waseem To Everyone : PIAIC183349\n",
    "12:04:37 From syed ibad ur rehman To Everyone : PIAIC166678\n",
    "12:04:37 From Mashal Zahra To Everyone : PIAIC178751\n",
    "12:04:38 From Amir PIAIC128409 To Everyone : PIAIC128409\n",
    "12:04:39 From Aneeq To Everyone : PIAIC172924\n",
    "12:04:40 From Irfan Ahmed To Everyone : PIAIC183459\n",
    "12:04:40 From Neelum Javaid 172527 To Everyone : PIAIC172527\n",
    "12:04:41 From Zeeshan Latif To Everyone : PIAIC171445\n",
    "12:04:44 From Abdul Saboor Zaman To Everyone : PIAIC189261\n",
    "\"\"\"\n",
    "\n",
    "import re\n",
    "\n",
    "a = list(set(re.findall(\"\\d{5,6}\",x)))\n",
    "print(len(a))\n",
    "a"
   ]
  },
  {
   "cell_type": "code",
   "execution_count": null,
   "metadata": {},
   "outputs": [],
   "source": []
  },
  {
   "cell_type": "code",
   "execution_count": null,
   "metadata": {},
   "outputs": [],
   "source": []
  }
 ],
 "metadata": {
  "kernelspec": {
   "display_name": "Python 3",
   "language": "python",
   "name": "python3"
  },
  "language_info": {
   "codemirror_mode": {
    "name": "ipython",
    "version": 3
   },
   "file_extension": ".py",
   "mimetype": "text/x-python",
   "name": "python",
   "nbconvert_exporter": "python",
   "pygments_lexer": "ipython3",
   "version": "3.7.15"
  }
 },
 "nbformat": 4,
 "nbformat_minor": 2
}
