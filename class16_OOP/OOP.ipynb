{
 "cells": [
  {
   "cell_type": "markdown",
   "id": "5be50e98",
   "metadata": {},
   "source": [
    "# linear programming"
   ]
  },
  {
   "cell_type": "code",
   "execution_count": 1,
   "id": "b11cfd09",
   "metadata": {},
   "outputs": [
    {
     "name": "stdout",
     "output_type": "stream",
     "text": [
      "line1\n",
      "line2\n",
      "line3\n",
      "line4\n",
      "line5\n",
      "line6\n"
     ]
    }
   ],
   "source": [
    "print(\"line1\")\n",
    "print(\"line2\")\n",
    "print(\"line3\")\n",
    "print(\"line4\")\n",
    "print(\"line5\")\n",
    "print(\"line6\")"
   ]
  },
  {
   "cell_type": "markdown",
   "id": "60cc60d9",
   "metadata": {},
   "source": [
    "# Structure programming"
   ]
  },
  {
   "cell_type": "code",
   "execution_count": 2,
   "id": "b8082d8a",
   "metadata": {},
   "outputs": [
    {
     "name": "stdout",
     "output_type": "stream",
     "text": [
      "line1\n",
      "line2\n",
      "line3\n",
      "line4\n",
      "line5\n",
      "line6\n"
     ]
    }
   ],
   "source": [
    "for idx in range(1,7):\n",
    "    print(f\"line{idx}\")"
   ]
  },
  {
   "cell_type": "markdown",
   "id": "8058048c",
   "metadata": {},
   "source": [
    "# We want to manage indivdual object all methods and attributes "
   ]
  },
  {
   "cell_type": "code",
   "execution_count": 4,
   "id": "21376c83",
   "metadata": {},
   "outputs": [],
   "source": [
    "s1_name = \"Muhammad Qasim\"\n",
    "s1_fname= \"Muhammad Aslam\"\n",
    "s1_edu = \"MSDS\"\n",
    "def s1_login():pass\n",
    "\n",
    "s2_name = \"Ali\"\n",
    "s2_fname = \"Hamza\"\n",
    "s2_eud = \"MS\"\n",
    "def s2_login():pass\n",
    "\n",
    "s3_name = \"Kashif\"\n",
    "s3_fname = \"Hamza\"\n",
    "s3_eud = \"MS\"\n",
    "def s3_login():pass\n"
   ]
  },
  {
   "cell_type": "markdown",
   "id": "ff90cdee",
   "metadata": {},
   "source": [
    "# OOP (Object Oriented Programming)\n",
    "* Class\n",
    "    * constructor/intializer\n",
    "    * Methods/Action/functions\n",
    "    * Attributes/properties/fields\n",
    "    \n",
    "## There are four plures \n",
    "* Inheritance\n",
    "* Polymorphism\n",
    "* Abstraction\n",
    "* Encapsulation\n",
    "<br><br><br>\n",
    "\n",
    "* **class:** blue print \n",
    "* **constructor/intializer:** this is also a method, call when we create new object of this class. `__init__(self)`"
   ]
  },
  {
   "cell_type": "code",
   "execution_count": 14,
   "id": "442c5ac7",
   "metadata": {},
   "outputs": [],
   "source": [
    "class Student():\n",
    "    def __init__(self): # constructor\n",
    "        self.roll = None # attributes/properties\n",
    "        self.name = None\n",
    "        self.fname = None\n",
    "        self.edu = None # attributes/properties\n",
    "        \n",
    "    def login(self): # method\n",
    "        return f\"Welcome Dear {self.name}! NED University!\"\n",
    "    \n",
    "    def profile(self):\n",
    "        return f\"\"\"\n",
    "        Student Name: {self.name}\n",
    "        Father's Name: {self.fname}\n",
    "        Education: {self.edu}\n",
    "        \"\"\"\n",
    "        \n",
    "        \n",
    "    "
   ]
  },
  {
   "cell_type": "code",
   "execution_count": 15,
   "id": "098ea44e",
   "metadata": {},
   "outputs": [],
   "source": [
    "s1 = Student()\n",
    "s1.roll = 1\n",
    "s1.name = \"Muhammad Qasim\"\n",
    "s1.fname = \"Muhammad Aslam\"\n",
    "s1.edu = \"MSDS\""
   ]
  },
  {
   "cell_type": "code",
   "execution_count": 16,
   "id": "00138f47",
   "metadata": {},
   "outputs": [
    {
     "data": {
      "text/plain": [
       "'Welcome Dear Muhammad Qasim! NED University!'"
      ]
     },
     "execution_count": 16,
     "metadata": {},
     "output_type": "execute_result"
    }
   ],
   "source": [
    "s1.login()"
   ]
  },
  {
   "cell_type": "code",
   "execution_count": 13,
   "id": "caf5d05a",
   "metadata": {},
   "outputs": [
    {
     "name": "stdout",
     "output_type": "stream",
     "text": [
      "\n",
      "        Student Name: Muhammad Qasim\n",
      "        Father's Name: Muhammad Aslam\n",
      "        Education: MSDS\n",
      "        \n"
     ]
    }
   ],
   "source": [
    "print(s1.profile())"
   ]
  },
  {
   "cell_type": "raw",
   "id": "6b088637",
   "metadata": {},
   "source": [
    "dir(s1)"
   ]
  },
  {
   "cell_type": "markdown",
   "id": "e714ac82",
   "metadata": {},
   "source": [
    "# Now assign roll and name during initailizing the new object"
   ]
  },
  {
   "cell_type": "code",
   "execution_count": 34,
   "id": "c4237404",
   "metadata": {},
   "outputs": [],
   "source": [
    "class Student():\n",
    "    def __init__(self, roll_no, sname, fname):\n",
    "        self.s_id = roll_no\n",
    "        self.student_name = sname\n",
    "        self.father_name = fname\n",
    "        self.education = None\n",
    "        self.age = None\n",
    "        self.gender = None\n",
    "        \n",
    "    def login(self):\n",
    "        return f\"Welcome Dear {self.student_name} NED University!\"\n",
    "    \n",
    "    def profile(self):\n",
    "        return f\"\"\"\n",
    "Student Name: {self.name}\n",
    "Father's Name: {self.fname}\n",
    "Education: {self.edu}\n",
    "        \"\"\"\n",
    "    \n",
    "        \n",
    "        "
   ]
  },
  {
   "cell_type": "code",
   "execution_count": 35,
   "id": "56cf1db4",
   "metadata": {},
   "outputs": [],
   "source": [
    "s1 = Student(1,\"Muhammad Qasim\",\"Muhammad Aslam\")# create new object\n",
    "s2 = Student(2,\"Hamza\",\"Kashif\")\n",
    "s3 = Student(3,\"Asif\",\"Abid\")"
   ]
  },
  {
   "cell_type": "code",
   "execution_count": 36,
   "id": "b84dd84f",
   "metadata": {},
   "outputs": [
    {
     "name": "stdout",
     "output_type": "stream",
     "text": [
      "1 Muhammad Qasim Muhammad Aslam None\n"
     ]
    }
   ],
   "source": [
    "print(s1.s_id,s1.student_name,s1.father_name,s1.education)# attributes calling"
   ]
  },
  {
   "cell_type": "code",
   "execution_count": 37,
   "id": "0cb87de1",
   "metadata": {},
   "outputs": [
    {
     "name": "stdout",
     "output_type": "stream",
     "text": [
      "2 Hamza Kashif None\n"
     ]
    }
   ],
   "source": [
    "print(s2.s_id,s2.student_name,s2.father_name,s2.education)"
   ]
  },
  {
   "cell_type": "code",
   "execution_count": 38,
   "id": "3fa0013b",
   "metadata": {},
   "outputs": [
    {
     "name": "stdout",
     "output_type": "stream",
     "text": [
      "3 Asif Abid None\n"
     ]
    }
   ],
   "source": [
    "print(s3.s_id,s3.student_name,s3.father_name,s3.education)"
   ]
  },
  {
   "cell_type": "code",
   "execution_count": 39,
   "id": "74a12e4e",
   "metadata": {},
   "outputs": [
    {
     "name": "stdout",
     "output_type": "stream",
     "text": [
      "1 M.Qasim Muhammad Aslam MSDS\n"
     ]
    }
   ],
   "source": [
    "s1.education = \"MSDS\"\n",
    "s1.student_name = \"M.Qasim\"\n",
    "print(s1.s_id,s1.student_name,s1.father_name,s1.education)"
   ]
  },
  {
   "cell_type": "code",
   "execution_count": 40,
   "id": "79b878fb",
   "metadata": {},
   "outputs": [
    {
     "name": "stdout",
     "output_type": "stream",
     "text": [
      "Welcome Dear M.Qasim NED University!\n",
      "\n",
      "Welcome Dear Hamza NED University!\n",
      "\n",
      "Welcome Dear Asif NED University!\n",
      "\n"
     ]
    }
   ],
   "source": [
    "print(s1.login())#method calling\n",
    "print()\n",
    "print(s2.login())\n",
    "print()\n",
    "print(s3.login())\n",
    "print()"
   ]
  },
  {
   "cell_type": "markdown",
   "id": "09f9919e",
   "metadata": {},
   "source": [
    "# Class Varible"
   ]
  },
  {
   "cell_type": "code",
   "execution_count": 50,
   "id": "0125dd52",
   "metadata": {},
   "outputs": [
    {
     "name": "stdout",
     "output_type": "stream",
     "text": [
      "0\n",
      "1\n",
      "2\n",
      "3\n"
     ]
    }
   ],
   "source": [
    "class Student():\n",
    "    total_student = 0# class Variable\n",
    "    \n",
    "    def __init__(self, roll_no, sname, fname):\n",
    "        self.s_id = roll_no\n",
    "        self.student_name = sname\n",
    "        self.father_name = fname\n",
    "        self.education = None\n",
    "        self.age = None\n",
    "        self.gender = None\n",
    "        Student.total_student += 1 # call class variable\n",
    "        \n",
    "    def __del__(self):\n",
    "        Student.total_student -= 1 # call class variable\n",
    "        \n",
    "    def login(self):\n",
    "        return f\"Welcome Dear {self.student_name} NED University!\"\n",
    "    \n",
    "    def profile(self):\n",
    "        return f\"\"\"\n",
    "Student Name: {self.name}\n",
    "Father's Name: {self.fname}\n",
    "Education: {self.edu}\n",
    "        \"\"\"\n",
    "    \n",
    "print(Student.total_student) # call class variable   0   \n",
    "s1 = Student(1,\"Muhammad Qasim\",\"Muhammad Aslam\")# create new object 0+1=1\n",
    "print(Student.total_student)  #1     \n",
    "s2 = Student(2,\"Hamza\",\"Kashif\")# 1 = 1+1 = 2\n",
    "print(Student.total_student) # 2\n",
    "s3 = Student(3,\"Asif\",\"Abid\") # 2 = 2+1 = 3  \n",
    "print(Student.total_student) # 3      "
   ]
  },
  {
   "cell_type": "code",
   "execution_count": 51,
   "id": "812f6da4",
   "metadata": {},
   "outputs": [
    {
     "name": "stdout",
     "output_type": "stream",
     "text": [
      "3\n",
      "3\n",
      "3\n",
      "3\n"
     ]
    }
   ],
   "source": [
    "print(s1.total_student)\n",
    "print(s2.total_student)\n",
    "print(s3.total_student)\n",
    "print(Student.total_student) # 3 "
   ]
  },
  {
   "cell_type": "code",
   "execution_count": 52,
   "id": "36e30169",
   "metadata": {},
   "outputs": [],
   "source": [
    "del s1"
   ]
  },
  {
   "cell_type": "code",
   "execution_count": 53,
   "id": "4ba60f46",
   "metadata": {},
   "outputs": [
    {
     "ename": "NameError",
     "evalue": "name 's1' is not defined",
     "output_type": "error",
     "traceback": [
      "\u001b[0;31m----------------------------------------------------------------------\u001b[0m",
      "\u001b[0;31mNameError\u001b[0m                            Traceback (most recent call last)",
      "\u001b[0;32m<ipython-input-53-b9f67ed15b78>\u001b[0m in \u001b[0;36m<module>\u001b[0;34m\u001b[0m\n\u001b[0;32m----> 1\u001b[0;31m \u001b[0ms1\u001b[0m\u001b[0;34m.\u001b[0m\u001b[0mstudent_name\u001b[0m\u001b[0;34m\u001b[0m\u001b[0;34m\u001b[0m\u001b[0m\n\u001b[0m",
      "\u001b[0;31mNameError\u001b[0m: name 's1' is not defined"
     ]
    }
   ],
   "source": [
    "s1.student_name"
   ]
  },
  {
   "cell_type": "code",
   "execution_count": 54,
   "id": "f34ff114",
   "metadata": {},
   "outputs": [
    {
     "data": {
      "text/plain": [
       "2"
      ]
     },
     "execution_count": 54,
     "metadata": {},
     "output_type": "execute_result"
    }
   ],
   "source": [
    "Student.total_student"
   ]
  },
  {
   "cell_type": "code",
   "execution_count": null,
   "id": "590cc839",
   "metadata": {},
   "outputs": [],
   "source": []
  }
 ],
 "metadata": {
  "kernelspec": {
   "display_name": "Python 3",
   "language": "python",
   "name": "python3"
  },
  "language_info": {
   "codemirror_mode": {
    "name": "ipython",
    "version": 3
   },
   "file_extension": ".py",
   "mimetype": "text/x-python",
   "name": "python",
   "nbconvert_exporter": "python",
   "pygments_lexer": "ipython3",
   "version": "3.7.15"
  }
 },
 "nbformat": 4,
 "nbformat_minor": 5
}
