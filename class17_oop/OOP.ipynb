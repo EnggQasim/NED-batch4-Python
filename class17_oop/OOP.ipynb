{
 "cells": [
  {
   "cell_type": "markdown",
   "id": "87fe4be4",
   "metadata": {},
   "source": [
    "# Inheritance"
   ]
  },
  {
   "cell_type": "code",
   "execution_count": 10,
   "id": "c87a385a",
   "metadata": {},
   "outputs": [],
   "source": [
    "class A():\n",
    "    def __init__(this):\n",
    "        this.nationality=\"Pakistani\"\n",
    "        this.language='Urdu'\n",
    "    \n",
    "    def spaking(this, words):\n",
    "        return words\n",
    "\n",
    "class B(A):# class B extend with class A\n",
    "    def eat(this,food):\n",
    "        return f\"Enjoying {food}\"\n",
    "\n",
    "    \n",
    "qasim = B()"
   ]
  },
  {
   "cell_type": "code",
   "execution_count": 11,
   "id": "83455e87",
   "metadata": {},
   "outputs": [
    {
     "data": {
      "text/plain": [
       "'Urdu'"
      ]
     },
     "execution_count": 11,
     "metadata": {},
     "output_type": "execute_result"
    }
   ],
   "source": [
    "qasim.language"
   ]
  },
  {
   "cell_type": "code",
   "execution_count": 12,
   "id": "21433dd1",
   "metadata": {},
   "outputs": [
    {
     "data": {
      "text/plain": [
       "'Pakistani'"
      ]
     },
     "execution_count": 12,
     "metadata": {},
     "output_type": "execute_result"
    }
   ],
   "source": [
    "qasim.nationality"
   ]
  },
  {
   "cell_type": "code",
   "execution_count": 13,
   "id": "174b7ada",
   "metadata": {},
   "outputs": [
    {
     "data": {
      "text/plain": [
       "'Pakistan zinda bad!'"
      ]
     },
     "execution_count": 13,
     "metadata": {},
     "output_type": "execute_result"
    }
   ],
   "source": [
    "qasim.spaking(\"Pakistan zinda bad!\")"
   ]
  },
  {
   "cell_type": "code",
   "execution_count": 14,
   "id": "0479ab3f",
   "metadata": {},
   "outputs": [],
   "source": [
    "aslam = A()"
   ]
  },
  {
   "cell_type": "markdown",
   "id": "09c6beb2",
   "metadata": {},
   "source": [
    "# Poly Morphisim\n",
    "# Over Riding and Over Loading"
   ]
  },
  {
   "cell_type": "code",
   "execution_count": 18,
   "id": "17fad65f",
   "metadata": {},
   "outputs": [
    {
     "data": {
      "text/plain": [
       "9"
      ]
     },
     "execution_count": 18,
     "metadata": {},
     "output_type": "execute_result"
    }
   ],
   "source": [
    "sum([7,9.2])#int,float\n",
    "sum([7,2])#int, int\n"
   ]
  },
  {
   "cell_type": "markdown",
   "id": "0b137322",
   "metadata": {},
   "source": [
    "## Overloading"
   ]
  },
  {
   "cell_type": "code",
   "execution_count": 24,
   "id": "a5a13735",
   "metadata": {},
   "outputs": [
    {
     "name": "stdout",
     "output_type": "stream",
     "text": [
      "6\n",
      "17\n"
     ]
    }
   ],
   "source": [
    "class A():\n",
    "    def __init__(self):\n",
    "        pass\n",
    "    \n",
    "    def my_sum(self, *num):\n",
    "        return sum(num)\n",
    "    \n",
    "obj1 = A()    \n",
    "print(obj1.my_sum(1,2,3))\n",
    "print(obj1.my_sum(1,2,3,3,5,3))"
   ]
  },
  {
   "cell_type": "code",
   "execution_count": 19,
   "id": "254a523e",
   "metadata": {},
   "outputs": [
    {
     "name": "stdout",
     "output_type": "stream",
     "text": [
      "Child\n",
      "Hello World Child..\n"
     ]
    }
   ],
   "source": [
    "class A():\n",
    "    def __init__(self):\n",
    "        print(\"Parent\")\n",
    "    \n",
    "    def speaking(self): \n",
    "        print(\"hello I am parent...\")\n",
    "\n",
    "class B(A):\n",
    "    def __init__(self): # Over Riding\n",
    "        self.words=None\n",
    "        print(\"Child\")\n",
    "    \n",
    "    def speaking(self): #Over Riding\n",
    "        print(\"Hello World Child..\")\n",
    "    \n",
    "        \n",
    "x1=B()\n",
    "x1.speaking()"
   ]
  },
  {
   "cell_type": "markdown",
   "id": "9a0ecf57",
   "metadata": {},
   "source": [
    "# Encupsulation\n"
   ]
  },
  {
   "cell_type": "code",
   "execution_count": 25,
   "id": "b2eb8079",
   "metadata": {},
   "outputs": [
    {
     "data": {
      "text/plain": [
       "'Name is: Osama 21 old.'"
      ]
     },
     "execution_count": 25,
     "metadata": {},
     "output_type": "execute_result"
    }
   ],
   "source": [
    "class A():\n",
    "    def __init__(self,name,age):\n",
    "        self.__name=name # private attributes\n",
    "        self.__age=age\n",
    "    \n",
    "    def display(self):# getter function\n",
    "        return \"Name is: {} {} old.\".format(self.__name,self.__age)\n",
    "    \n",
    "    \n",
    "    def setValues(self,name,age):# setter function\n",
    "        self.__name=name\n",
    "        self.__age=age\n",
    "    \n",
    "    def __hello(self):# private method\n",
    "        return \"Hahahahah!\"\n",
    "\n",
    "p1 = A(\"Osama\",21)\n",
    "p1.display()\n"
   ]
  },
  {
   "cell_type": "code",
   "execution_count": 26,
   "id": "0182bfae",
   "metadata": {},
   "outputs": [
    {
     "ename": "AttributeError",
     "evalue": "'A' object has no attribute 'name'",
     "output_type": "error",
     "traceback": [
      "\u001b[0;31m-----------------------------------------------------------------------\u001b[0m",
      "\u001b[0;31mAttributeError\u001b[0m                        Traceback (most recent call last)",
      "\u001b[0;32m<ipython-input-26-6ad9ba857207>\u001b[0m in \u001b[0;36m<module>\u001b[0;34m\u001b[0m\n\u001b[0;32m----> 1\u001b[0;31m \u001b[0mp1\u001b[0m\u001b[0;34m.\u001b[0m\u001b[0mname\u001b[0m\u001b[0;34m\u001b[0m\u001b[0;34m\u001b[0m\u001b[0m\n\u001b[0m",
      "\u001b[0;31mAttributeError\u001b[0m: 'A' object has no attribute 'name'"
     ]
    }
   ],
   "source": [
    "p1.name"
   ]
  },
  {
   "cell_type": "code",
   "execution_count": 27,
   "id": "3c049d56",
   "metadata": {},
   "outputs": [
    {
     "ename": "AttributeError",
     "evalue": "'A' object has no attribute '__name'",
     "output_type": "error",
     "traceback": [
      "\u001b[0;31m-----------------------------------------------------------------------\u001b[0m",
      "\u001b[0;31mAttributeError\u001b[0m                        Traceback (most recent call last)",
      "\u001b[0;32m<ipython-input-27-b357a526aec6>\u001b[0m in \u001b[0;36m<module>\u001b[0;34m\u001b[0m\n\u001b[0;32m----> 1\u001b[0;31m \u001b[0mp1\u001b[0m\u001b[0;34m.\u001b[0m\u001b[0m__name\u001b[0m\u001b[0;34m\u001b[0m\u001b[0;34m\u001b[0m\u001b[0m\n\u001b[0m",
      "\u001b[0;31mAttributeError\u001b[0m: 'A' object has no attribute '__name'"
     ]
    }
   ],
   "source": [
    "p1.__name"
   ]
  },
  {
   "cell_type": "code",
   "execution_count": 28,
   "id": "0eeab5db",
   "metadata": {},
   "outputs": [
    {
     "ename": "AttributeError",
     "evalue": "'A' object has no attribute '__hello'",
     "output_type": "error",
     "traceback": [
      "\u001b[0;31m-----------------------------------------------------------------------\u001b[0m",
      "\u001b[0;31mAttributeError\u001b[0m                        Traceback (most recent call last)",
      "\u001b[0;32m<ipython-input-28-50c83627d0e0>\u001b[0m in \u001b[0;36m<module>\u001b[0;34m\u001b[0m\n\u001b[0;32m----> 1\u001b[0;31m \u001b[0mp1\u001b[0m\u001b[0;34m.\u001b[0m\u001b[0m__hello\u001b[0m\u001b[0;34m(\u001b[0m\u001b[0;34m)\u001b[0m\u001b[0;34m\u001b[0m\u001b[0;34m\u001b[0m\u001b[0m\n\u001b[0m",
      "\u001b[0;31mAttributeError\u001b[0m: 'A' object has no attribute '__hello'"
     ]
    }
   ],
   "source": [
    "p1.__hello()"
   ]
  },
  {
   "cell_type": "code",
   "execution_count": 29,
   "id": "06ec7ff8",
   "metadata": {},
   "outputs": [
    {
     "data": {
      "text/plain": [
       "'Osama'"
      ]
     },
     "execution_count": 29,
     "metadata": {},
     "output_type": "execute_result"
    }
   ],
   "source": [
    "p1._A__name"
   ]
  },
  {
   "cell_type": "code",
   "execution_count": 30,
   "id": "920e6c81",
   "metadata": {},
   "outputs": [],
   "source": [
    "p1.setValues(\"Ali\",32)\n"
   ]
  },
  {
   "cell_type": "code",
   "execution_count": 31,
   "id": "c48924cc",
   "metadata": {},
   "outputs": [
    {
     "data": {
      "text/plain": [
       "'Name is: Ali 32 old.'"
      ]
     },
     "execution_count": 31,
     "metadata": {},
     "output_type": "execute_result"
    }
   ],
   "source": [
    "p1.display()"
   ]
  },
  {
   "cell_type": "markdown",
   "id": "7ecca6ca",
   "metadata": {},
   "source": [
    "# Abstract Class\n",
    "\n"
   ]
  },
  {
   "cell_type": "code",
   "execution_count": 38,
   "id": "a0f94b3a",
   "metadata": {},
   "outputs": [],
   "source": [
    "from abc import ABC, abstractmethod\n",
    " \n",
    "class Shape(ABC):\n",
    "    def __init__(self, shape_name):\n",
    "        self.shape_name = shape_name\n",
    "    \n",
    "    @abstractmethod\n",
    "    def draw(self):\n",
    "        pass\n"
   ]
  },
  {
   "cell_type": "code",
   "execution_count": 39,
   "id": "24b0a4a3",
   "metadata": {},
   "outputs": [],
   "source": [
    " \n",
    "class Circle(Shape):\n",
    "    def __init__(self):\n",
    "        super().__init__(\"circle\")\n",
    " \n",
    "    def draw(self):\n",
    "        print(\"Drawing a Circle\")\n",
    "\n",
    "\n",
    "class Triangle(Shape):\n",
    "    def __init__(self):\n",
    "        super().__init__(\"triangle\")\n",
    " \n",
    "    def draw(self):\n",
    "        print(\"Drawing a triangle\")\n",
    "        "
   ]
  },
  {
   "cell_type": "code",
   "execution_count": 40,
   "id": "fe97cc5e",
   "metadata": {},
   "outputs": [
    {
     "ename": "TypeError",
     "evalue": "Can't instantiate abstract class Shape with abstract methods draw",
     "output_type": "error",
     "traceback": [
      "\u001b[0;31m-----------------------------------------------------------------------\u001b[0m",
      "\u001b[0;31mTypeError\u001b[0m                             Traceback (most recent call last)",
      "\u001b[0;32m<ipython-input-40-35c4b61ec361>\u001b[0m in \u001b[0;36m<module>\u001b[0;34m\u001b[0m\n\u001b[0;32m----> 1\u001b[0;31m \u001b[0msp\u001b[0m \u001b[0;34m=\u001b[0m \u001b[0mShape\u001b[0m\u001b[0;34m(\u001b[0m\u001b[0;34m'shap'\u001b[0m\u001b[0;34m)\u001b[0m\u001b[0;34m\u001b[0m\u001b[0;34m\u001b[0m\u001b[0m\n\u001b[0m",
      "\u001b[0;31mTypeError\u001b[0m: Can't instantiate abstract class Shape with abstract methods draw"
     ]
    }
   ],
   "source": [
    "sp = Shape('shap')"
   ]
  },
  {
   "cell_type": "code",
   "execution_count": 42,
   "id": "dc6577d0",
   "metadata": {},
   "outputs": [
    {
     "name": "stdout",
     "output_type": "stream",
     "text": [
      "Drawing a Circle\n"
     ]
    }
   ],
   "source": [
    "cr = Circle()\n",
    "cr.draw()"
   ]
  },
  {
   "cell_type": "code",
   "execution_count": 43,
   "id": "5b27e711",
   "metadata": {},
   "outputs": [
    {
     "name": "stdout",
     "output_type": "stream",
     "text": [
      "Drawing a triangle\n"
     ]
    }
   ],
   "source": [
    "tr = Triangle()\n",
    "tr.draw()"
   ]
  },
  {
   "cell_type": "code",
   "execution_count": null,
   "id": "f56d13f6",
   "metadata": {},
   "outputs": [],
   "source": []
  }
 ],
 "metadata": {
  "kernelspec": {
   "display_name": "Python 3",
   "language": "python",
   "name": "python3"
  },
  "language_info": {
   "codemirror_mode": {
    "name": "ipython",
    "version": 3
   },
   "file_extension": ".py",
   "mimetype": "text/x-python",
   "name": "python",
   "nbconvert_exporter": "python",
   "pygments_lexer": "ipython3",
   "version": "3.7.15"
  }
 },
 "nbformat": 4,
 "nbformat_minor": 5
}
